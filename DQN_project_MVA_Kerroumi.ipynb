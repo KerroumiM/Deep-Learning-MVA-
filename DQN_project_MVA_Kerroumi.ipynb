{
  "nbformat": 4,
  "nbformat_minor": 0,
  "metadata": {
    "kernelspec": {
      "name": "python3",
      "display_name": "Python 3"
    },
    "language_info": {
      "codemirror_mode": {
        "name": "ipython",
        "version": 3
      },
      "file_extension": ".py",
      "mimetype": "text/x-python",
      "name": "python",
      "nbconvert_exporter": "python",
      "pygments_lexer": "ipython3",
      "version": "3.7.3"
    },
    "colab": {
      "name": "DQN_project_MVA_Kerroumi.ipynb",
      "provenance": [],
      "collapsed_sections": []
    },
    "accelerator": "GPU"
  },
  "cells": [
    {
      "cell_type": "markdown",
      "metadata": {
        "id": "PG26eHJZsnx1",
        "colab_type": "text"
      },
      "source": [
        "**You may need to install [OpenCV](https://pypi.python.org/pypi/opencv-python) and [scikit-video](http://www.scikit-video.org/stable/).**"
      ]
    },
    {
      "cell_type": "code",
      "metadata": {
        "id": "u-tCnpMnv6SY",
        "colab_type": "code",
        "outputId": "f09e7717-f65c-49f1-9bf7-e46b4ac7691d",
        "colab": {
          "base_uri": "https://localhost:8080/",
          "height": 84
        }
      },
      "source": [
        " pip install scikit-video"
      ],
      "execution_count": 55,
      "outputs": [
        {
          "output_type": "stream",
          "text": [
            "Requirement already satisfied: scikit-video in /usr/local/lib/python3.6/dist-packages (1.1.11)\n",
            "Requirement already satisfied: pillow in /usr/local/lib/python3.6/dist-packages (from scikit-video) (6.2.2)\n",
            "Requirement already satisfied: scipy in /usr/local/lib/python3.6/dist-packages (from scikit-video) (1.4.1)\n",
            "Requirement already satisfied: numpy in /usr/local/lib/python3.6/dist-packages (from scikit-video) (1.17.5)\n"
          ],
          "name": "stdout"
        }
      ]
    },
    {
      "cell_type": "code",
      "metadata": {
        "id": "b6CB1QWVsnx5",
        "colab_type": "code",
        "colab": {}
      },
      "source": [
        "import keras\n",
        "import numpy as np\n",
        "import io\n",
        "import base64\n",
        "from IPython.display import HTML\n",
        "\n",
        "import skvideo.io\n",
        "import cv2\n",
        "import json\n",
        "\n",
        "from keras.models import Sequential,model_from_json\n",
        "from keras.layers.core import Dense, Flatten, Dropout\n",
        "from keras.optimizers import sgd\n",
        "from keras.layers import Conv2D, MaxPooling2D, Activation, AveragePooling2D,Reshape,BatchNormalization"
      ],
      "execution_count": 0,
      "outputs": []
    },
    {
      "cell_type": "markdown",
      "metadata": {
        "id": "PwK4XIr4snyB",
        "colab_type": "text"
      },
      "source": [
        "# MiniProject on Deep Reinforcement Learning"
      ]
    },
    {
      "cell_type": "markdown",
      "metadata": {
        "id": "h6IaDkXlsnyC",
        "colab_type": "text"
      },
      "source": [
        "__Notations__: $E_p$ is the expectation under probability $p$. Please justify each of your answer and widely comment your code."
      ]
    },
    {
      "cell_type": "markdown",
      "metadata": {
        "id": "wHDXuyhhsnyE",
        "colab_type": "text"
      },
      "source": [
        "# Context"
      ]
    },
    {
      "cell_type": "markdown",
      "metadata": {
        "id": "kPhlXs5TsnyG",
        "colab_type": "text"
      },
      "source": [
        "In a reinforcement learning algorithm, we modelize each step $t$ as an action $a_t$ obtained from a state $s_t$, i.e. $\\{(a_{t},s_{t})_{t\\leq T}\\}$ having the Markov property. We consider a discount factor $\\gamma \\in [0,1]$ that ensures convergence. The goal is to find among all the policies $\\pi$, one that maximizes the expected reward:\n",
        "\n",
        "\\begin{equation*}\n",
        "R(\\pi)=\\sum_{t\\leq T}E_{p^{\\pi}}[\\gamma^t r(s_{t},a_{t})] \\> ,\n",
        "\\end{equation*}\n",
        "\n",
        "where: \n",
        "\\begin{equation*}p^{\\pi}(a_{0},a_{1},s_{1},...,a_{T},s_{T})=p(a_{0})\\prod_{t=1}^{T}\\pi(a_{t}|s_{t})p(s_{t+1}|s_{t},a_{t}) \\> .\n",
        "\\end{equation*}\n",
        "\n",
        "We note the $Q$-function:\n",
        "\n",
        "\\begin{equation*}Q^\\pi(s,a)=E_{p^{\\pi}}[\\sum_{t\\leq T}\\gamma^{t}r(s_{t},a_{t})|s_{0}=s,a_{0}=a] \\> .\n",
        "\\end{equation*}\n",
        "\n",
        "Thus, the optimal Q function is:\n",
        "\\begin{equation*}\n",
        "Q^*(s,a)=\\max_{\\pi}Q^\\pi(s,a) \\> .\n",
        "\\end{equation*}\n",
        "\n",
        "In this project, we will apply the deep reinforcement learning techniques to a simple game: an agent will have to learn from scratch a policy that will permit it maximizing a reward."
      ]
    },
    {
      "cell_type": "markdown",
      "metadata": {
        "id": "aWeuXPVisnyH",
        "colab_type": "text"
      },
      "source": [
        "## The environment, the agent and the game"
      ]
    },
    {
      "cell_type": "markdown",
      "metadata": {
        "id": "-XnQ9snNsnyJ",
        "colab_type": "text"
      },
      "source": [
        "### The environment"
      ]
    },
    {
      "cell_type": "markdown",
      "metadata": {
        "id": "3znbSXcysnyL",
        "colab_type": "text"
      },
      "source": [
        "```Environment``` is an abstract class that represents the states, rewards, and actions to obtain the new state."
      ]
    },
    {
      "cell_type": "code",
      "metadata": {
        "id": "fdvUUyXfsnyM",
        "colab_type": "code",
        "colab": {}
      },
      "source": [
        "class Environment(object):\n",
        "    def __init__(self):\n",
        "        pass\n",
        "\n",
        "    def act(self, act):\n",
        "        \"\"\"\n",
        "        One can act on the environment and obtain its reaction:\n",
        "        - the new state\n",
        "        - the reward of the new state\n",
        "        - should we continue the game?\n",
        "\n",
        "        :return: state, reward, game_over\n",
        "        \"\"\"\n",
        "        pass\n",
        "\n",
        "\n",
        "    def reset(self):\n",
        "        \"\"\"\n",
        "        Reinitialize the environment to a random state and returns\n",
        "        the original state\n",
        "\n",
        "        :return: state\n",
        "        \"\"\"\n",
        "        pass\n",
        "    \n",
        "    def draw(self):\n",
        "        \"\"\"\n",
        "        Visualize in the console or graphically the current state\n",
        "        \"\"\"\n",
        "        pass"
      ],
      "execution_count": 0,
      "outputs": []
    },
    {
      "cell_type": "markdown",
      "metadata": {
        "id": "7uA9l-l-snyT",
        "colab_type": "text"
      },
      "source": [
        "The method ```act``` allows to act on the environment at a given state $s_t$ (stored internally), via action $a_t$. The method will return the new state $s_{t+1}$, the reward $r(s_{t},a_{t})$ and determines if $t\\leq T$ (*game_over*).\n",
        "\n",
        "The method ```reset``` simply reinitializes the environment to a random state $s_0$.\n",
        "\n",
        "The method ```draw``` displays the current state $s_t$ (this is useful to check the behavior of the Agent).\n",
        "\n",
        "We modelize $s_t$ as a tensor, while $a_t$ is an integer."
      ]
    },
    {
      "cell_type": "markdown",
      "metadata": {
        "id": "p_HAAB0asnyV",
        "colab_type": "text"
      },
      "source": [
        "### The Agent"
      ]
    },
    {
      "cell_type": "markdown",
      "metadata": {
        "id": "hUfKRmSusnyX",
        "colab_type": "text"
      },
      "source": [
        "The goal of the ```Agent``` is to interact with the ```Environment``` by proposing actions $a_t$ obtained from a given state $s_t$ to attempt to maximize its __reward__ $r(s_t,a_t)$. We propose the following abstract class:"
      ]
    },
    {
      "cell_type": "code",
      "metadata": {
        "id": "vWG-w4cesnyY",
        "colab_type": "code",
        "colab": {}
      },
      "source": [
        "class Agent(object):\n",
        "    def __init__(self, epsilon=0.1, n_action=4):\n",
        "        self.epsilon = epsilon\n",
        "        self.n_action = n_action\n",
        "    \n",
        "    def set_epsilon(self,e):\n",
        "        self.epsilon = e\n",
        "\n",
        "    def act(self,s,train=True):\n",
        "        \"\"\" This function should return the next action to do:\n",
        "        an integer between 0 and 4 (not included) with a random exploration of epsilon\"\"\"\n",
        "        if train:\n",
        "            if np.random.rand() <= self.epsilon:\n",
        "                a = np.random.randint(0, self.n_action, size=1)[0]\n",
        "            else:\n",
        "                a = self.learned_act(s)\n",
        "        else: # in some cases, this can improve the performance.. remove it if poor performances\n",
        "            a = self.learned_act(s)\n",
        "\n",
        "        return a\n",
        "\n",
        "    def learned_act(self,s):\n",
        "        \"\"\" Act via the policy of the agent, from a given state s\n",
        "        it proposes an action a\"\"\"\n",
        "        pass\n",
        "\n",
        "    def reinforce(self, s, n_s, a, r, game_over_):\n",
        "        \"\"\" This function is the core of the learning algorithm. \n",
        "        It takes as an input the current state s_, the next state n_s_\n",
        "        the action a_ used to move from s_ to n_s_ and the reward r_.\n",
        "        \n",
        "        Its goal is to learn a policy.\n",
        "        \"\"\"\n",
        "        pass\n",
        "\n",
        "    def save(self):\n",
        "        \"\"\" This function returns basic stats if applicable: the\n",
        "        loss and/or the model\"\"\"\n",
        "        pass\n",
        "\n",
        "    def load(self):\n",
        "        \"\"\" This function allows to restore a model\"\"\"\n",
        "        pass"
      ],
      "execution_count": 0,
      "outputs": []
    },
    {
      "cell_type": "markdown",
      "metadata": {
        "id": "ET4RAbcjsnyf",
        "colab_type": "text"
      },
      "source": [
        "***\n",
        "__Question 1__:\n",
        "Explain the function act. Why is ```epsilon``` essential?"
      ]
    },
    {
      "cell_type": "markdown",
      "metadata": {
        "id": "XUkkJvsBsnyj",
        "colab_type": "text"
      },
      "source": [
        "epsilon is essential because it's the parameter of the $\\epsilon$-greedy policy, $\\epsilon$ controls the trade off between exploration and exploitation, $\\epsilon = 0$ means the agent will choose the best action based on history, and the actions will be dependant to the cumulated knowledge and we will have a big bias, $\\epsilon = 1$ means the agent will take random action all the time, exploration is important because during this part the agent learns new things and strenghens its strategy. "
      ]
    },
    {
      "cell_type": "markdown",
      "metadata": {
        "id": "oaIifcMVsnyl",
        "colab_type": "text"
      },
      "source": [
        "***\n",
        "### The Game"
      ]
    },
    {
      "cell_type": "markdown",
      "metadata": {
        "id": "WG0C88b8snym",
        "colab_type": "text"
      },
      "source": [
        "The ```Agent``` and the ```Environment``` work in an interlaced way as in the following (take some time to understand this code as it is the core of the project)\n",
        "\n",
        "```python\n",
        "\n",
        "epoch = 300\n",
        "env = Environment()\n",
        "agent = Agent()\n",
        "\n",
        "\n",
        "# Number of won games\n",
        "score = 0\n",
        "loss = 0\n",
        "\n",
        "\n",
        "for e in range(epoch):\n",
        "    # At each epoch, we restart to a fresh game and get the initial state\n",
        "    state = env.reset()\n",
        "    # This assumes that the games will end\n",
        "    game_over = False\n",
        "\n",
        "    win = 0\n",
        "    lose = 0\n",
        "    \n",
        "    while not game_over:\n",
        "        # The agent performs an action\n",
        "        action = agent.act(state)\n",
        "\n",
        "        # Apply an action to the environment, get the next state, the reward\n",
        "        # and if the games end\n",
        "        prev_state = state\n",
        "        state, reward, game_over = env.act(action)\n",
        "\n",
        "        # Update the counters\n",
        "        if reward > 0:\n",
        "            win = win + reward\n",
        "        if reward < 0:\n",
        "            lose = lose -reward\n",
        "\n",
        "        # Apply the reinforcement strategy\n",
        "        loss = agent.reinforce(prev_state, state,  action, reward, game_over)\n",
        "\n",
        "    # Save as a mp4\n",
        "    if e % 10 == 0:\n",
        "        env.draw(e)\n",
        "\n",
        "    # Update stats\n",
        "    score += win-lose\n",
        "\n",
        "    print(\"Epoch {:03d}/{:03d} | Loss {:.4f} | Win/lose count {}/{} ({})\"\n",
        "          .format(e, epoch, loss, win, lose, win-lose))\n",
        "    agent.save()\n",
        "```"
      ]
    },
    {
      "cell_type": "markdown",
      "metadata": {
        "id": "otihfQ0_snyo",
        "colab_type": "text"
      },
      "source": [
        "# The game, *eat cheese*"
      ]
    },
    {
      "cell_type": "markdown",
      "metadata": {
        "id": "zZYYhYCDsnyp",
        "colab_type": "text"
      },
      "source": [
        "A rat runs on an island and tries to eat as much as possible. The island is subdivided into $N\\times N$ cells, in which there are cheese (+0.5) and poisonous cells (-1). The rat has a visibility of 2 cells (thus it can see $5^2$ cells). The rat is given a time $T$ to accumulate as much food as possible. It can perform 4 actions: going up, down, left, right. \n",
        "\n",
        "The goal is to code an agent to solve this task that will learn by trial and error. We propose the following environment:"
      ]
    },
    {
      "cell_type": "code",
      "metadata": {
        "id": "4DkPo2Z1snyr",
        "colab_type": "code",
        "colab": {}
      },
      "source": [
        "class Environment(object):\n",
        "    def __init__(self, grid_size=10, max_time=500, temperature=0.1):\n",
        "        grid_size = grid_size+4\n",
        "        self.grid_size = grid_size\n",
        "        self.max_time = max_time\n",
        "        self.temperature = temperature\n",
        "\n",
        "        #board on which one plays\n",
        "        self.board = np.zeros((grid_size,grid_size))\n",
        "        self.position = np.zeros((grid_size,grid_size))\n",
        "\n",
        "        # coordinate of the cat\n",
        "        self.x = 0\n",
        "        self.y = 1\n",
        "\n",
        "        # self time\n",
        "        self.t = 0\n",
        "\n",
        "        self.scale=16\n",
        "\n",
        "        self.to_draw = np.zeros((max_time+2, grid_size*self.scale, grid_size*self.scale, 3))\n",
        "\n",
        "\n",
        "    def draw(self,e):\n",
        "        skvideo.io.vwrite(str(e) + '.mp4', self.to_draw)\n",
        "\n",
        "    def get_frame(self,t):\n",
        "        b = np.zeros((self.grid_size,self.grid_size,3))+128\n",
        "        b[self.board>0,0] = 256\n",
        "        b[self.board < 0, 2] = 256\n",
        "        b[self.x,self.y,:]=256\n",
        "        b[-2:,:,:]=0\n",
        "        b[:,-2:,:]=0\n",
        "        b[:2,:,:]=0\n",
        "        b[:,:2,:]=0\n",
        "        \n",
        "        b =  cv2.resize(b, None, fx=self.scale, fy=self.scale, interpolation=cv2.INTER_NEAREST)\n",
        "\n",
        "        self.to_draw[t,:,:,:]=b\n",
        "\n",
        "\n",
        "    def act(self, action):\n",
        "        \"\"\"This function returns the new state, reward and decides if the\n",
        "        game ends.\"\"\"\n",
        "\n",
        "        self.get_frame(int(self.t))\n",
        "\n",
        "        self.position = np.zeros((self.grid_size, self.grid_size))\n",
        "\n",
        "        self.position[0:2,:]= -1\n",
        "        self.position[:,0:2] = -1\n",
        "        self.position[-2:, :] = -1\n",
        "        self.position[-2:, :] = -1\n",
        "\n",
        "        self.position[self.x, self.y] = 1\n",
        "        if action == 0:\n",
        "            if self.x == self.grid_size-3:\n",
        "                self.x = self.x-1\n",
        "            else:\n",
        "                self.x = self.x + 1\n",
        "        elif action == 1:\n",
        "            if self.x == 2:\n",
        "                self.x = self.x+1\n",
        "            else:\n",
        "                self.x = self.x-1\n",
        "        elif action == 2:\n",
        "            if self.y == self.grid_size - 3:\n",
        "                self.y = self.y - 1\n",
        "            else:\n",
        "                self.y = self.y + 1\n",
        "        elif action == 3:\n",
        "            if self.y == 2:\n",
        "                self.y = self.y + 1\n",
        "            else:\n",
        "                self.y = self.y - 1\n",
        "        else:\n",
        "            RuntimeError('Error: action not recognized')\n",
        "\n",
        "        self.t = self.t + 1\n",
        "        reward = self.board[self.x, self.y]\n",
        "        self.board[self.x, self.y] = 0\n",
        "        game_over = self.t > self.max_time\n",
        "        state = np.concatenate((self.board.reshape(self.grid_size, self.grid_size,1),\n",
        "                        self.position.reshape(self.grid_size, self.grid_size,1)),axis=2)\n",
        "        state = state[self.x-2:self.x+3,self.y-2:self.y+3,:]\n",
        "\n",
        "        return state, reward, game_over\n",
        "\n",
        "    def reset(self):\n",
        "        \"\"\"This function resets the game and returns the initial state\"\"\"\n",
        "\n",
        "        self.x = np.random.randint(3, self.grid_size-3, size=1)[0]\n",
        "        self.y = np.random.randint(3, self.grid_size-3, size=1)[0]\n",
        "\n",
        "\n",
        "        bonus = 0.5*np.random.binomial(1,self.temperature,size=self.grid_size**2)\n",
        "        bonus = bonus.reshape(self.grid_size,self.grid_size)\n",
        "\n",
        "        malus = -1.0*np.random.binomial(1,self.temperature,size=self.grid_size**2)\n",
        "        malus = malus.reshape(self.grid_size, self.grid_size)\n",
        "\n",
        "        self.to_draw = np.zeros((self.max_time+2, self.grid_size*self.scale, self.grid_size*self.scale, 3))\n",
        "\n",
        "\n",
        "        malus[bonus>0]=0\n",
        "\n",
        "        self.board = bonus + malus\n",
        "\n",
        "        self.position = np.zeros((self.grid_size, self.grid_size))\n",
        "        self.position[0:2,:]= -1\n",
        "        self.position[:,0:2] = -1\n",
        "        self.position[-2:, :] = -1\n",
        "        self.position[-2:, :] = -1\n",
        "        self.board[self.x,self.y] = 0\n",
        "        self.t = 0\n",
        "\n",
        "        state = np.concatenate((\n",
        "                               self.board.reshape(self.grid_size, self.grid_size,1),\n",
        "                        self.position.reshape(self.grid_size, self.grid_size,1)),axis=2)\n",
        "\n",
        "        state = state[self.x - 2:self.x + 3, self.y - 2:self.y + 3, :]\n",
        "        return state"
      ],
      "execution_count": 0,
      "outputs": []
    },
    {
      "cell_type": "markdown",
      "metadata": {
        "id": "Rb1pZUwBsnyx",
        "colab_type": "text"
      },
      "source": [
        "The following elements are important because they correspond to the hyper parameters for this project:"
      ]
    },
    {
      "cell_type": "code",
      "metadata": {
        "id": "jsq3EVHIsnyz",
        "colab_type": "code",
        "colab": {}
      },
      "source": [
        "# parameters\n",
        "size = 13\n",
        "T=200\n",
        "temperature=0.3\n",
        "epochs_train=11 # set small when debugging\n",
        "epochs_test=11 # set small when debugging\n",
        "\n",
        "# display videos\n",
        "def display_videos(name):\n",
        "    video = io.open(name, 'r+b').read()\n",
        "    encoded = base64.b64encode(video)\n",
        "    return '''<video alt=\"test\" controls>\n",
        "                <source src=\"data:video/mp4;base64,{0}\" type=\"video/mp4\" />\n",
        "             </video>'''.format(encoded.decode('ascii'))"
      ],
      "execution_count": 0,
      "outputs": []
    },
    {
      "cell_type": "markdown",
      "metadata": {
        "id": "InQRIFX-sny5",
        "colab_type": "text"
      },
      "source": [
        "__Question 2__ Explain the use of the arrays ```position``` and ```board```."
      ]
    },
    {
      "cell_type": "markdown",
      "metadata": {
        "id": "efpWYdGPsny7",
        "colab_type": "text"
      },
      "source": [
        "\n",
        "position : \n",
        "- An array containing the cells where the rat can go position[x,y]=0, the boundries where the rat can't go position[x,y]=-1 and the actual position of the rat position[x,y]=1.\n",
        "\n",
        "Board: \n",
        "- An array containing the reward of each cell of the grid, the rat gets a reward board[x,y] when it's in the cell [x,y]\n"
      ]
    },
    {
      "cell_type": "markdown",
      "metadata": {
        "id": "-DaBl4lbsny8",
        "colab_type": "text"
      },
      "source": [
        "## Random Agent"
      ]
    },
    {
      "cell_type": "markdown",
      "metadata": {
        "id": "YdmzLSLZsny-",
        "colab_type": "text"
      },
      "source": [
        "***\n",
        "__Question 3__ Implement a random Agent (only ```learned_act``` needs to be implemented):"
      ]
    },
    {
      "cell_type": "code",
      "metadata": {
        "id": "XK4Ikyy-sny_",
        "colab_type": "code",
        "colab": {}
      },
      "source": [
        "class RandomAgent(Agent):\n",
        "    def __init__(self):\n",
        "        super(RandomAgent, self).__init__()\n",
        "        pass\n",
        "\n",
        "    def learned_act(self, s):\n",
        "        a = np.random.randint(0, self.n_action, size=1)[0]\n",
        "        return a"
      ],
      "execution_count": 0,
      "outputs": []
    },
    {
      "cell_type": "markdown",
      "metadata": {
        "id": "Vl0PqArSsnzD",
        "colab_type": "text"
      },
      "source": [
        "***\n",
        "***\n",
        "__Question 4__ Visualize the game moves. You need to fill in the following function for the evaluation:"
      ]
    },
    {
      "cell_type": "code",
      "metadata": {
        "id": "lr8AhkiUsnzF",
        "colab_type": "code",
        "colab": {}
      },
      "source": [
        "def test(agent,env,epochs,prefix=''):\n",
        "    # Number of won games\n",
        "    score = 0\n",
        "        \n",
        "    for e in range(epochs):\n",
        "        \n",
        "        ##### FILL IN HERE\n",
        "        s= env.reset()\n",
        "        game_over = False # This assumes that the games won't end\n",
        "        win = 0\n",
        "        lose = 0\n",
        "         \n",
        "        while not game_over:\n",
        "            #I choose train = False, because in test the action must be dependent to the previous cumulated knowledge\n",
        "            a = agent.act(s, train= False) \n",
        "            s,r,game_over =env.act(a)\n",
        "            if r>0 :\n",
        "                win +=r\n",
        "            if r < 0:\n",
        "                lose+=-r\n",
        "        # Save as a mp4\n",
        "        env.draw(prefix+str(e))\n",
        "\n",
        "        # Update stats\n",
        "        score = score + win-lose\n",
        "\n",
        "        print(\"Win/lose count {}/{}. Average score ({})\"\n",
        "              .format(win, lose, score/(1+e)))\n",
        "    print('Final score: '+str(score/epochs))"
      ],
      "execution_count": 0,
      "outputs": []
    },
    {
      "cell_type": "code",
      "metadata": {
        "id": "nhLRDJmosnzJ",
        "colab_type": "code",
        "outputId": "5fd1e4a8-363d-49dc-b4f3-04194522e7bb",
        "colab": {
          "base_uri": "https://localhost:8080/",
          "height": 373
        }
      },
      "source": [
        "# Initialize the game\n",
        "env = Environment(grid_size=size, max_time=T,temperature=temperature)\n",
        "\n",
        "# Initialize the agent!\n",
        "agent = RandomAgent()\n",
        "\n",
        "test(agent,env,epochs_test,prefix='random')\n",
        "HTML(display_videos('random0.mp4'))"
      ],
      "execution_count": 63,
      "outputs": [
        {
          "output_type": "stream",
          "text": [
            "Win/lose count 10.5/15.0. Average score (-4.5)\n",
            "Win/lose count 14.0/8.0. Average score (0.75)\n",
            "Win/lose count 8.0/9.0. Average score (0.16666666666666666)\n",
            "Win/lose count 10.0/15.0. Average score (-1.125)\n",
            "Win/lose count 11.0/17.0. Average score (-2.1)\n",
            "Win/lose count 8.5/11.0. Average score (-2.1666666666666665)\n",
            "Win/lose count 10.0/15.0. Average score (-2.5714285714285716)\n",
            "Win/lose count 10.0/20.0. Average score (-3.5)\n",
            "Win/lose count 11.0/17.0. Average score (-3.7777777777777777)\n",
            "Win/lose count 7.0/10.0. Average score (-3.7)\n",
            "Win/lose count 9.5/16.0. Average score (-3.9545454545454546)\n",
            "Final score: -3.9545454545454546\n"
          ],
          "name": "stdout"
        },
        {
          "output_type": "execute_result",
          "data": {
            "text/html": [
              "<video alt=\"test\" controls>\n",
              "                <source src=\"data:video/mp4;base64,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\" type=\"video/mp4\" />\n",
              "             </video>"
            ],
            "text/plain": [
              "<IPython.core.display.HTML object>"
            ]
          },
          "metadata": {
            "tags": []
          },
          "execution_count": 63
        }
      ]
    },
    {
      "cell_type": "markdown",
      "metadata": {
        "id": "pgvCbcJCsnzO",
        "colab_type": "text"
      },
      "source": [
        "***\n",
        "## DQN"
      ]
    },
    {
      "cell_type": "markdown",
      "metadata": {
        "id": "b02mJE1-snzP",
        "colab_type": "text"
      },
      "source": [
        "Let us assume here that $T=\\infty$.\n",
        "\n",
        "***\n",
        "__Question 5__ Let $\\pi$ be a policy, show that:\n",
        "\n",
        "\\begin{equation*}\n",
        "Q^{\\pi}(s,a)=E_{(s',a')\\sim p(.|s,a)}[r(s,a)+\\gamma Q^{\\pi}(s',a')]\n",
        "\\end{equation*}\n",
        "\n",
        "Then, show that for the optimal policy $\\pi^*$ (we assume its existence), the following holds: \n",
        "\n",
        "\\begin{equation*}\n",
        "Q^{*}(s,a)=E_{s'\\sim \\pi^*(.|s,a)}[r(s,a)+\\gamma\\max_{a'}Q^{*}(s',a')].\n",
        "\\end{equation*}\n",
        "Finally, deduce that a plausible objective is:\n",
        "\n",
        "\\begin{equation*}\n",
        "\\mathcal{L}(\\theta)=E_{s' \\sim \\pi^*(.|s,a)}\\Vert r+\\gamma\\max\\max_{a'}Q(s',a',\\theta)-Q(s,a,\\theta)\\Vert^{2}.\n",
        "\\end{equation*}\n",
        "\n",
        "\n"
      ]
    },
    {
      "cell_type": "markdown",
      "metadata": {
        "id": "vNutwehxsnzR",
        "colab_type": "text"
      },
      "source": [
        "We have in the case $T=\\infty$:\n",
        "\\begin{equation*}Q^\\pi(s,a)=E_{p^{\\pi}}[\\sum_{t=0}^{\\infty}\\gamma^{t}r(s_{t},a_{t})|s_{0}=s,a_{0}=a] \\> .\n",
        "\\end{equation*}\n",
        "\\begin{equation*}Q^\\pi(s,a)=E_{p^{\\pi}}[r(s,a) + \\sum_{t=1}^{\\infty}\\gamma^{t}r(s_{t},a_{t})|s_{0}=s,a_{0}=a] \\> .\n",
        "\\end{equation*}\n",
        "\\begin{equation*}Q^\\pi(s,a)=r(s,a) + \\gamma E_{p^{\\pi}}[ \\sum_{t=1}^{\\infty}\\gamma^{t-1}r(s_{t},a_{t})|s_{0}=s,a_{0}=a] \\> .\n",
        "\\end{equation*}\n",
        "\\begin{equation*}Q^\\pi(s,a)=r(s,a) + \\gamma E_{p^{\\pi}}[E_{p^{\\pi}}[ \\sum_{t=0}^{\\infty}\\gamma^{t}r(s_{t+1},a_{t+1})|s_{1}=s',a_{1}=a']|s_{0}=s,a_{0}=a] \\>\n",
        "\\end{equation*}\n",
        "\n",
        "\\begin{equation*}Q^\\pi(s,a)=  E_{p^{\\pi}}[r(s,a) +\\gamma E_{p^{\\pi}}[ \\sum_{t=0}^{\\infty}\\gamma^{t}r(s_{t+1},a_{t+1})|s_{1}=s',a_{1}=a']|s_{0}=s,a_{0}=a] \\> \n",
        "\\end{equation*}\n",
        "\n",
        "\\begin{equation*}\n",
        "Q^{\\pi}(s,a)=E_{(s',a')\\sim p(.|s,a)}[r(s,a)+\\gamma Q^{\\pi}(s',a')]\n",
        "\\end{equation*}\n",
        "Let $\\pi^*$ be the optimal policy,\n",
        "\\begin{equation*}\n",
        "Q^{\\pi}(s,a)=E_{(s',a')\\sim p(.|s,a)}[r(s,a)+\\gamma Q^{\\pi}(s',a')]\n",
        "\\end{equation*}\n",
        "\n",
        "\\begin{equation*}\n",
        "Q^{\\pi}(s,a)=r(s,a) + \\gamma \\sum_{s'\\in S, a'\\in A} P(s'|s,a)\\pi(a'|s') Q^{\\pi}(s',a')\n",
        "\\end{equation*}\n",
        "\n",
        "\\begin{equation*}\n",
        "Q^{\\pi^*}(s,a)=r(s,a) + \\gamma \\sum_{s'\\in S, a'\\in A} P(s'|s,a)\\pi^*(a'|s') Q^{\\pi^*}(s',a')\n",
        "\\end{equation*}\n",
        "We know that the optimal policy is deterministic and:\n",
        "$$\\pi^*(a'|s') = \\left\\{\\begin{aligned} &1 &&\\textrm{if  $\\quad a'= argmax(Q^*(s',a'))$}\\\\&0 &&\\textrm{otherwise }\\end{aligned}\\right.$$\n",
        "So Q becomes:\n",
        "\\begin{equation*}\n",
        "Q^{\\pi^*}(s,a)=r(s,a) + \\gamma \\sum_{s'\\in S, a'\\in A} P(s'|s,a)\\max_{a'} Q^{\\pi^*}(s',a')\n",
        "\\end{equation*}\n",
        "\n",
        "\\begin{equation*}\n",
        "Q^{*}(s,a)= Q^{\\pi ^*}(s,a)= E_{s'\\sim \\pi^*(.|s,a)}[r(s,a)+\\gamma\\max_{a'}Q^{*}(s',a')].\n",
        "\\end{equation*}\n",
        "- Objectif function:\n",
        "The optimal Q-function must verify the optimal Bellman equation (Eq.2), So if the neural network perfectly converge, the equation must be verified, so we can choose for the loss the average square error between the values predicted by the network and the target output for each actions.\n"
      ]
    },
    {
      "cell_type": "markdown",
      "metadata": {
        "id": "unBDkTE6snzT",
        "colab_type": "text"
      },
      "source": [
        "***\n",
        "The DQN-learning algorithm relies on these derivations to train the parameters $\\theta$ of a Deep Neural Network:\n",
        "\n",
        "1. At the state $s_t$, select the action $a_t$ with best reward using $Q_t$ and store the results;\n",
        "\n",
        "2. Obtain the new state $s_{t+1}$ from the environment $p$;\n",
        "\n",
        "3. Store $(s_t,a_t,s_{t+1})$;\n",
        "\n",
        "4. Obtain $Q_{t+1}$ by minimizing  $\\mathcal{L}$ from a recovered batch from the previously stored results.\n",
        "\n",
        "***\n",
        "__Question 6__ Implement the class ```Memory``` that stores moves (in a replay buffer) via ```remember``` and provides a ```random_access``` to these. Specify a maximum memory size to avoid side effects. You can for example use a ```list()``` and set by default ```max_memory=100```."
      ]
    },
    {
      "cell_type": "code",
      "metadata": {
        "id": "868nZ4GjsnzV",
        "colab_type": "code",
        "colab": {}
      },
      "source": [
        "import numpy as np\n",
        "class Memory(object):\n",
        "    def __init__(self, max_memory=100):\n",
        "        self.max_memory = max_memory\n",
        "        self.memory = list()\n",
        "\n",
        "    def remember(self, m):\n",
        "        if len(self.memory)< self.max_memory:\n",
        "            self.memory.append(m)\n",
        "        else : \n",
        "            self.memory[np.random.randint(len(self.memory))]=m\n",
        "        \n",
        "\n",
        "    def random_access(self):\n",
        "        \n",
        "        return(self.memory[np.random.randint(len(self.memory))])"
      ],
      "execution_count": 0,
      "outputs": []
    },
    {
      "cell_type": "markdown",
      "metadata": {
        "id": "9weDQdissnzd",
        "colab_type": "text"
      },
      "source": [
        "***\n",
        "The pipeline we will use for training is given below:"
      ]
    },
    {
      "cell_type": "code",
      "metadata": {
        "id": "kt3nvS4Gsnzf",
        "colab_type": "code",
        "colab": {}
      },
      "source": [
        "def train(agent,env,epoch,prefix=''):\n",
        "    # Number of won games\n",
        "    score = 0\n",
        "    loss = 0\n",
        "\n",
        "    for e in range(epoch):\n",
        "        # At each epoch, we restart to a fresh game and get the initial state\n",
        "        state = env.reset()\n",
        "        # This assumes that the games will terminate\n",
        "        game_over = False\n",
        "\n",
        "        win = 0\n",
        "        lose = 0\n",
        "\n",
        "        while not game_over:\n",
        "            # The agent performs an action\n",
        "            action = agent.act(state)\n",
        "\n",
        "            # Apply an action to the environment, get the next state, the reward\n",
        "            # and if the games end\n",
        "            prev_state = state\n",
        "            state, reward, game_over = env.act(action)\n",
        "\n",
        "            # Update the counters\n",
        "            if reward > 0:\n",
        "                win = win + reward\n",
        "            if reward < 0:\n",
        "                lose = lose -reward\n",
        "\n",
        "            # Apply the reinforcement strategy\n",
        "            loss = agent.reinforce(prev_state, state,  action, reward, game_over)\n",
        "\n",
        "        # Save as a mp4\n",
        "        if e % 10 == 0:\n",
        "            env.draw(prefix+str(e))\n",
        "\n",
        "        # Update stats\n",
        "        score += win-lose\n",
        "\n",
        "        print(\"Epoch {:03d}/{:03d} | Loss {:.4f} | Win/lose count {}/{} ({})\"\n",
        "              .format(e, epoch, loss, win, lose, win-lose))\n",
        "        agent.save(name_weights=prefix+'model.h5',name_model=prefix+'model.json')"
      ],
      "execution_count": 0,
      "outputs": []
    },
    {
      "cell_type": "markdown",
      "metadata": {
        "id": "JSZg938msnzn",
        "colab_type": "text"
      },
      "source": [
        "***\n",
        "__Question 7__ Implement the DQN training algorithm using a cascade of fully connected layers. You can use different learning rate, batch size or memory size parameters. In particular, the loss might oscillate while the player will start to win the games. You have to find a good criterium."
      ]
    },
    {
      "cell_type": "code",
      "metadata": {
        "id": "-MtCToijsnzp",
        "colab_type": "code",
        "colab": {}
      },
      "source": [
        "class DQN(Agent):\n",
        "    def __init__(self, grid_size,  epsilon = 0.1, memory_size=100, batch_size = 16,n_state=2):\n",
        "        super(DQN, self).__init__(epsilon = epsilon)\n",
        "\n",
        "        # Discount for Q learning\n",
        "        self.discount = 0.99\n",
        "        \n",
        "        self.grid_size = grid_size\n",
        "        \n",
        "        # number of state\n",
        "        self.n_state = n_state\n",
        "\n",
        "        # Memory\n",
        "        self.memory = Memory(memory_size)\n",
        "        \n",
        "        # Batch size when learning\n",
        "        self.batch_size = batch_size\n",
        "\n",
        "    def learned_act(self, s):\n",
        "        return np.argmax(self.model.predict(s.reshape(1,s.shape[0],s.shape[1],s.shape[2])),1)\n",
        "        pass\n",
        "\n",
        "    def reinforce(self, s_, n_s_, a_, r_, game_over_):\n",
        "        # Two steps: first memorize the states, second learn from the pool\n",
        "\n",
        "        self.memory.remember([s_, n_s_, a_, r_, game_over_])\n",
        "        \n",
        "        input_states = np.zeros((self.batch_size, 5,5,self.n_state))\n",
        "        target_q = np.zeros((self.batch_size, 4))\n",
        "        \n",
        "        for i in range(self.batch_size):\n",
        "            ######## FILL IN\n",
        "            s, n_s, a, r, game_over = self.memory.random_access()\n",
        "            #print(a)\n",
        "            input_states[i] = s\n",
        "            target_q[i,:] = self.model.predict(s.reshape((1,5,5,self.n_state)))\n",
        "            if game_over:\n",
        "                ######## FILL IN\n",
        "                target_q[i, int(a)] = r\n",
        "                \n",
        "            else:\n",
        "                ######## FILL IN\n",
        "                target_q[i, int(a)] = r +self.discount*np.max(self.model.predict(n_s.reshape((1,5,5,self.n_state))))\n",
        "        ######## FILL IN\n",
        "        # HINT: Clip the target to avoid exploiding gradients.. -- clipping is a bit tighter\n",
        "        target_q = np.clip(target_q, -8, 8)\n",
        "\n",
        "        l = self.model.train_on_batch(input_states, target_q)\n",
        "\n",
        "\n",
        "        return l\n",
        "\n",
        "    def save(self,name_weights='model.h5',name_model='model.json'):\n",
        "        self.model.save_weights(name_weights, overwrite=True)\n",
        "        with open(name_model, \"w\") as outfile:\n",
        "            json.dump(self.model.to_json(), outfile)\n",
        "            \n",
        "    def load(self,name_weights='model.h5',name_model='model.json'):\n",
        "        with open(name_model, \"r\") as jfile:\n",
        "            model = model_from_json(json.load(jfile))\n",
        "        model.load_weights(name_weights)\n",
        "        model.compile(\"sgd\", \"mse\")\n",
        "        self.model = model\n",
        "\n",
        "            \n",
        "class DQN_FC(DQN):\n",
        "    def __init__(self, *args, lr=0.1,**kwargs):\n",
        "        super(DQN_FC, self).__init__( *args,**kwargs)\n",
        "        \n",
        "        # NN Model\n",
        "        model = Sequential()\n",
        "        model.add(Flatten(input_shape=(5, 5, self.n_state)))\n",
        "        model.add(Dense(32 , activation='relu'))\n",
        "        model.add(Dense(4))\n",
        "        ####### FILL IN\n",
        "        \n",
        "        model.compile(sgd(lr=lr, decay=1e-4, momentum=0.0), \"mse\")\n",
        "        self.model = model\n",
        "        "
      ],
      "execution_count": 0,
      "outputs": []
    },
    {
      "cell_type": "code",
      "metadata": {
        "id": "4ZQKU5JBsnzu",
        "colab_type": "code",
        "outputId": "97067213-c754-4b76-cf63-9b7fac6c3d64",
        "colab": {
          "base_uri": "https://localhost:8080/",
          "height": 1000
        }
      },
      "source": [
        "env = Environment(grid_size=size, max_time=T, temperature=0.3)\n",
        "agent = DQN_FC(size, lr=.1, epsilon = 0.1, memory_size=2000, batch_size = 32)\n",
        "train(agent, env, epoch=80, prefix='fc_train')\n",
        "HTML(display_videos('fc_train70.mp4'))"
      ],
      "execution_count": 67,
      "outputs": [
        {
          "output_type": "stream",
          "text": [
            "Epoch 000/080 | Loss 0.0028 | Win/lose count 3.0/4.0 (-1.0)\n",
            "Epoch 001/080 | Loss 0.0025 | Win/lose count 0.5/4.0 (-3.5)\n",
            "Epoch 002/080 | Loss 0.0029 | Win/lose count 4.0/4.0 (0.0)\n",
            "Epoch 003/080 | Loss 0.0083 | Win/lose count 3.5/2.0 (1.5)\n",
            "Epoch 004/080 | Loss 0.0129 | Win/lose count 4.5/2.0 (2.5)\n",
            "Epoch 005/080 | Loss 0.0277 | Win/lose count 4.0/0 (4.0)\n",
            "Epoch 006/080 | Loss 0.0163 | Win/lose count 2.5/3.0 (-0.5)\n",
            "Epoch 007/080 | Loss 0.0112 | Win/lose count 7.0/5.0 (2.0)\n",
            "Epoch 008/080 | Loss 0.0568 | Win/lose count 4.0/4.0 (0.0)\n",
            "Epoch 009/080 | Loss 0.0418 | Win/lose count 1.5/5.0 (-3.5)\n",
            "Epoch 010/080 | Loss 0.0258 | Win/lose count 2.0/3.0 (-1.0)\n",
            "Epoch 011/080 | Loss 0.0521 | Win/lose count 4.0/4.0 (0.0)\n",
            "Epoch 012/080 | Loss 0.0332 | Win/lose count 2.5/2.0 (0.5)\n",
            "Epoch 013/080 | Loss 0.0276 | Win/lose count 5.0/5.0 (0.0)\n",
            "Epoch 014/080 | Loss 0.0159 | Win/lose count 4.5/4.0 (0.5)\n",
            "Epoch 015/080 | Loss 0.1873 | Win/lose count 5.0/5.0 (0.0)\n",
            "Epoch 016/080 | Loss 0.0128 | Win/lose count 2.5/2.0 (0.5)\n",
            "Epoch 017/080 | Loss 0.0147 | Win/lose count 3.5/3.0 (0.5)\n",
            "Epoch 018/080 | Loss 0.0200 | Win/lose count 6.0/0 (6.0)\n",
            "Epoch 019/080 | Loss 0.0202 | Win/lose count 9.0/2.0 (7.0)\n",
            "Epoch 020/080 | Loss 0.0113 | Win/lose count 4.0/2.0 (2.0)\n",
            "Epoch 021/080 | Loss 0.0282 | Win/lose count 11.5/6.0 (5.5)\n",
            "Epoch 022/080 | Loss 0.0053 | Win/lose count 5.5/5.0 (0.5)\n",
            "Epoch 023/080 | Loss 0.0178 | Win/lose count 3.5/2.0 (1.5)\n",
            "Epoch 024/080 | Loss 0.0103 | Win/lose count 6.5/2.0 (4.5)\n",
            "Epoch 025/080 | Loss 0.3169 | Win/lose count 7.0/6.0 (1.0)\n",
            "Epoch 026/080 | Loss 0.0124 | Win/lose count 7.0/2.0 (5.0)\n",
            "Epoch 027/080 | Loss 0.0148 | Win/lose count 4.0/6.0 (-2.0)\n",
            "Epoch 028/080 | Loss 0.2800 | Win/lose count 5.5/2.0 (3.5)\n",
            "Epoch 029/080 | Loss 0.0127 | Win/lose count 7.5/3.0 (4.5)\n",
            "Epoch 030/080 | Loss 0.2999 | Win/lose count 10.0/2.0 (8.0)\n",
            "Epoch 031/080 | Loss 0.0120 | Win/lose count 5.0/5.0 (0.0)\n",
            "Epoch 032/080 | Loss 0.0077 | Win/lose count 5.0/3.0 (2.0)\n",
            "Epoch 033/080 | Loss 0.0094 | Win/lose count 5.0/0 (5.0)\n",
            "Epoch 034/080 | Loss 0.3432 | Win/lose count 4.0/2.0 (2.0)\n",
            "Epoch 035/080 | Loss 0.0099 | Win/lose count 3.5/1.0 (2.5)\n",
            "Epoch 036/080 | Loss 0.0090 | Win/lose count 9.0/3.0 (6.0)\n",
            "Epoch 037/080 | Loss 0.0074 | Win/lose count 6.5/1.0 (5.5)\n",
            "Epoch 038/080 | Loss 0.3307 | Win/lose count 5.0/2.0 (3.0)\n",
            "Epoch 039/080 | Loss 0.0214 | Win/lose count 9.5/1.0 (8.5)\n",
            "Epoch 040/080 | Loss 0.0155 | Win/lose count 2.5/0 (2.5)\n",
            "Epoch 041/080 | Loss 0.0113 | Win/lose count 5.5/2.0 (3.5)\n",
            "Epoch 042/080 | Loss 0.0066 | Win/lose count 4.5/1.0 (3.5)\n",
            "Epoch 043/080 | Loss 0.0218 | Win/lose count 8.5/0 (8.5)\n",
            "Epoch 044/080 | Loss 0.0214 | Win/lose count 16.0/4.0 (12.0)\n",
            "Epoch 045/080 | Loss 0.0105 | Win/lose count 15.0/3.0 (12.0)\n",
            "Epoch 046/080 | Loss 0.0107 | Win/lose count 11.5/6.0 (5.5)\n",
            "Epoch 047/080 | Loss 0.0242 | Win/lose count 6.5/2.0 (4.5)\n",
            "Epoch 048/080 | Loss 0.0129 | Win/lose count 6.0/1.0 (5.0)\n",
            "Epoch 049/080 | Loss 0.0227 | Win/lose count 2.5/0 (2.5)\n",
            "Epoch 050/080 | Loss 0.0194 | Win/lose count 11.0/1.0 (10.0)\n",
            "Epoch 051/080 | Loss 0.0151 | Win/lose count 9.5/2.0 (7.5)\n",
            "Epoch 052/080 | Loss 0.0187 | Win/lose count 14.0/2.0 (12.0)\n",
            "Epoch 053/080 | Loss 0.3622 | Win/lose count 6.5/4.0 (2.5)\n",
            "Epoch 054/080 | Loss 0.0135 | Win/lose count 8.5/3.0 (5.5)\n",
            "Epoch 055/080 | Loss 0.0354 | Win/lose count 2.0/0 (2.0)\n",
            "Epoch 056/080 | Loss 0.0357 | Win/lose count 8.5/2.0 (6.5)\n",
            "Epoch 057/080 | Loss 0.0141 | Win/lose count 8.5/4.0 (4.5)\n",
            "Epoch 058/080 | Loss 0.0166 | Win/lose count 10.0/0 (10.0)\n",
            "Epoch 059/080 | Loss 0.0113 | Win/lose count 3.5/3.0 (0.5)\n",
            "Epoch 060/080 | Loss 0.2787 | Win/lose count 8.0/1.0 (7.0)\n",
            "Epoch 061/080 | Loss 0.0081 | Win/lose count 7.5/2.0 (5.5)\n",
            "Epoch 062/080 | Loss 0.0145 | Win/lose count 14.5/3.0 (11.5)\n",
            "Epoch 063/080 | Loss 0.0169 | Win/lose count 6.5/2.0 (4.5)\n",
            "Epoch 064/080 | Loss 0.0113 | Win/lose count 8.0/2.0 (6.0)\n",
            "Epoch 065/080 | Loss 0.0129 | Win/lose count 14.5/1.0 (13.5)\n",
            "Epoch 066/080 | Loss 0.0231 | Win/lose count 10.5/2.0 (8.5)\n",
            "Epoch 067/080 | Loss 0.0113 | Win/lose count 18.5/1.0 (17.5)\n",
            "Epoch 068/080 | Loss 0.0088 | Win/lose count 17.5/1.0 (16.5)\n",
            "Epoch 069/080 | Loss 0.0161 | Win/lose count 13.5/2.0 (11.5)\n",
            "Epoch 070/080 | Loss 0.0191 | Win/lose count 11.0/1.0 (10.0)\n",
            "Epoch 071/080 | Loss 0.0104 | Win/lose count 11.0/0 (11.0)\n",
            "Epoch 072/080 | Loss 0.0122 | Win/lose count 4.0/3.0 (1.0)\n",
            "Epoch 073/080 | Loss 0.0200 | Win/lose count 5.5/1.0 (4.5)\n",
            "Epoch 074/080 | Loss 0.0196 | Win/lose count 8.0/1.0 (7.0)\n",
            "Epoch 075/080 | Loss 0.0151 | Win/lose count 6.5/1.0 (5.5)\n",
            "Epoch 076/080 | Loss 0.3556 | Win/lose count 9.5/2.0 (7.5)\n",
            "Epoch 077/080 | Loss 0.0190 | Win/lose count 11.5/2.0 (9.5)\n",
            "Epoch 078/080 | Loss 0.3151 | Win/lose count 5.0/2.0 (3.0)\n",
            "Epoch 079/080 | Loss 0.0180 | Win/lose count 12.0/2.0 (10.0)\n"
          ],
          "name": "stdout"
        },
        {
          "output_type": "execute_result",
          "data": {
            "text/html": [
              "<video alt=\"test\" controls>\n",
              "                <source src=\"data:video/mp4;base64,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\" type=\"video/mp4\" />\n",
              "             </video>"
            ],
            "text/plain": [
              "<IPython.core.display.HTML object>"
            ]
          },
          "metadata": {
            "tags": []
          },
          "execution_count": 67
        }
      ]
    },
    {
      "cell_type": "markdown",
      "metadata": {
        "id": "nur3LxrOsnzy",
        "colab_type": "text"
      },
      "source": [
        "***\n",
        "***\n",
        "__Question 8__ Implement the DQN training algorithm using a CNN (for example, 2 convolutional layers and one final fully connected layer)."
      ]
    },
    {
      "cell_type": "code",
      "metadata": {
        "id": "v7oX-j-7snzz",
        "colab_type": "code",
        "colab": {}
      },
      "source": [
        "class DQN_CNN(DQN):\n",
        "    def __init__(self, *args,lr=0.1,**kwargs):\n",
        "        super(DQN_CNN, self).__init__(*args,**kwargs)\n",
        "        \n",
        "        ###### FILL IN\n",
        "        model = Sequential()\n",
        "        model.add(Conv2D(32, kernel_size=(2, 2),\n",
        "                         activation='relu',\n",
        "                         input_shape=(5,5,self.n_state)))\n",
        "        model.add(Conv2D(64, (2, 2), activation='relu'))\n",
        "        model.add(Dropout(0.25))\n",
        "        model.add(Flatten())\n",
        "        model.add(Dense(128, activation='relu'))\n",
        "        \n",
        "        model.add(Dense(4))\n",
        "        model.compile(sgd(lr=lr, decay=1e-4, momentum=0.0), \"mse\")\n",
        "        self.model = model"
      ],
      "execution_count": 0,
      "outputs": []
    },
    {
      "cell_type": "code",
      "metadata": {
        "id": "oeoQh6Iisnz3",
        "colab_type": "code",
        "outputId": "eb264c45-3f09-4542-cd2a-ff33e1905df4",
        "colab": {
          "base_uri": "https://localhost:8080/",
          "height": 1000
        }
      },
      "source": [
        "env = Environment(grid_size=size, max_time=T, temperature=0.3)\n",
        "agent = DQN_CNN(size, lr=.1, epsilon = 0.1, memory_size=2000, batch_size = 32)\n",
        "train(agent,env,epoch=80,prefix='cnn_train')\n",
        "HTML(display_videos('cnn_train70.mp4'))"
      ],
      "execution_count": 69,
      "outputs": [
        {
          "output_type": "stream",
          "text": [
            "Epoch 000/080 | Loss 0.1126 | Win/lose count 4.0/5.0 (-1.0)\n",
            "Epoch 001/080 | Loss 0.0351 | Win/lose count 4.0/10.0 (-6.0)\n",
            "Epoch 002/080 | Loss 0.0227 | Win/lose count 4.5/2.0 (2.5)\n",
            "Epoch 003/080 | Loss 0.0249 | Win/lose count 3.5/1.0 (2.5)\n",
            "Epoch 004/080 | Loss 0.0107 | Win/lose count 1.0/2.0 (-1.0)\n",
            "Epoch 005/080 | Loss 0.0042 | Win/lose count 1.5/1.0 (0.5)\n",
            "Epoch 006/080 | Loss 0.0288 | Win/lose count 4.0/5.0 (-1.0)\n",
            "Epoch 007/080 | Loss 0.0026 | Win/lose count 4.0/3.0 (1.0)\n",
            "Epoch 008/080 | Loss 0.0021 | Win/lose count 5.0/3.0 (2.0)\n",
            "Epoch 009/080 | Loss 0.0050 | Win/lose count 2.5/2.0 (0.5)\n",
            "Epoch 010/080 | Loss 0.0035 | Win/lose count 2.5/5.0 (-2.5)\n",
            "Epoch 011/080 | Loss 0.0060 | Win/lose count 2.5/0 (2.5)\n",
            "Epoch 012/080 | Loss 0.0031 | Win/lose count 3.5/1.0 (2.5)\n",
            "Epoch 013/080 | Loss 0.0039 | Win/lose count 4.5/3.0 (1.5)\n",
            "Epoch 014/080 | Loss 0.0186 | Win/lose count 6.0/1.0 (5.0)\n",
            "Epoch 015/080 | Loss 0.0021 | Win/lose count 5.5/3.0 (2.5)\n",
            "Epoch 016/080 | Loss 0.0112 | Win/lose count 8.0/0 (8.0)\n",
            "Epoch 017/080 | Loss 0.0104 | Win/lose count 5.5/1.0 (4.5)\n",
            "Epoch 018/080 | Loss 0.0045 | Win/lose count 5.5/5.0 (0.5)\n",
            "Epoch 019/080 | Loss 0.0096 | Win/lose count 5.5/4.0 (1.5)\n",
            "Epoch 020/080 | Loss 0.0053 | Win/lose count 4.5/4.0 (0.5)\n",
            "Epoch 021/080 | Loss 0.0116 | Win/lose count 5.5/3.0 (2.5)\n",
            "Epoch 022/080 | Loss 0.0039 | Win/lose count 4.5/1.0 (3.5)\n",
            "Epoch 023/080 | Loss 0.0086 | Win/lose count 7.0/2.0 (5.0)\n",
            "Epoch 024/080 | Loss 0.0202 | Win/lose count 2.0/2.0 (0.0)\n",
            "Epoch 025/080 | Loss 0.0107 | Win/lose count 7.0/11.0 (-4.0)\n",
            "Epoch 026/080 | Loss 0.0040 | Win/lose count 8.5/2.0 (6.5)\n",
            "Epoch 027/080 | Loss 0.0068 | Win/lose count 4.5/4.0 (0.5)\n",
            "Epoch 028/080 | Loss 0.0066 | Win/lose count 20.5/1.0 (19.5)\n",
            "Epoch 029/080 | Loss 0.0104 | Win/lose count 7.0/6.0 (1.0)\n",
            "Epoch 030/080 | Loss 0.0233 | Win/lose count 9.5/0 (9.5)\n",
            "Epoch 031/080 | Loss 0.0088 | Win/lose count 14.5/4.0 (10.5)\n",
            "Epoch 032/080 | Loss 0.0125 | Win/lose count 5.0/5.0 (0.0)\n",
            "Epoch 033/080 | Loss 0.0077 | Win/lose count 9.5/3.0 (6.5)\n",
            "Epoch 034/080 | Loss 0.0107 | Win/lose count 3.5/0 (3.5)\n",
            "Epoch 035/080 | Loss 0.0093 | Win/lose count 12.0/1.0 (11.0)\n",
            "Epoch 036/080 | Loss 0.0106 | Win/lose count 8.0/1.0 (7.0)\n",
            "Epoch 037/080 | Loss 0.0182 | Win/lose count 16.5/6.0 (10.5)\n",
            "Epoch 038/080 | Loss 0.0218 | Win/lose count 12.5/5.0 (7.5)\n",
            "Epoch 039/080 | Loss 0.0098 | Win/lose count 6.5/1.0 (5.5)\n",
            "Epoch 040/080 | Loss 0.0243 | Win/lose count 15.5/5.0 (10.5)\n",
            "Epoch 041/080 | Loss 0.0197 | Win/lose count 23.0/5.0 (18.0)\n",
            "Epoch 042/080 | Loss 0.0151 | Win/lose count 13.5/1.0 (12.5)\n",
            "Epoch 043/080 | Loss 0.0195 | Win/lose count 16.5/2.0 (14.5)\n",
            "Epoch 044/080 | Loss 0.0102 | Win/lose count 13.0/4.0 (9.0)\n",
            "Epoch 045/080 | Loss 0.0181 | Win/lose count 14.5/2.0 (12.5)\n",
            "Epoch 046/080 | Loss 0.0182 | Win/lose count 12.5/6.0 (6.5)\n",
            "Epoch 047/080 | Loss 0.0112 | Win/lose count 23.0/4.0 (19.0)\n",
            "Epoch 048/080 | Loss 0.0229 | Win/lose count 13.5/5.0 (8.5)\n",
            "Epoch 049/080 | Loss 0.0246 | Win/lose count 17.0/4.0 (13.0)\n",
            "Epoch 050/080 | Loss 0.0165 | Win/lose count 13.0/2.0 (11.0)\n",
            "Epoch 051/080 | Loss 0.0150 | Win/lose count 15.0/4.0 (11.0)\n",
            "Epoch 052/080 | Loss 0.0192 | Win/lose count 10.0/2.0 (8.0)\n",
            "Epoch 053/080 | Loss 0.2332 | Win/lose count 15.0/3.0 (12.0)\n",
            "Epoch 054/080 | Loss 0.4926 | Win/lose count 17.5/4.0 (13.5)\n",
            "Epoch 055/080 | Loss 0.2753 | Win/lose count 24.0/5.0 (19.0)\n",
            "Epoch 056/080 | Loss 0.0179 | Win/lose count 16.5/2.0 (14.5)\n",
            "Epoch 057/080 | Loss 0.0132 | Win/lose count 16.5/4.0 (12.5)\n",
            "Epoch 058/080 | Loss 0.0126 | Win/lose count 14.0/6.0 (8.0)\n",
            "Epoch 059/080 | Loss 0.0349 | Win/lose count 20.5/6.0 (14.5)\n",
            "Epoch 060/080 | Loss 0.0267 | Win/lose count 13.5/2.0 (11.5)\n",
            "Epoch 061/080 | Loss 0.2366 | Win/lose count 15.5/8.0 (7.5)\n",
            "Epoch 062/080 | Loss 0.0109 | Win/lose count 24.0/5.0 (19.0)\n",
            "Epoch 063/080 | Loss 0.0136 | Win/lose count 18.5/5.0 (13.5)\n",
            "Epoch 064/080 | Loss 0.0172 | Win/lose count 20.0/10.0 (10.0)\n",
            "Epoch 065/080 | Loss 0.3162 | Win/lose count 23.0/3.0 (20.0)\n",
            "Epoch 066/080 | Loss 0.0258 | Win/lose count 21.0/9.0 (12.0)\n",
            "Epoch 067/080 | Loss 0.2542 | Win/lose count 16.0/9.0 (7.0)\n",
            "Epoch 068/080 | Loss 0.0189 | Win/lose count 27.5/8.0 (19.5)\n",
            "Epoch 069/080 | Loss 0.0308 | Win/lose count 20.0/4.0 (16.0)\n",
            "Epoch 070/080 | Loss 0.0201 | Win/lose count 23.0/8.0 (15.0)\n",
            "Epoch 071/080 | Loss 0.0264 | Win/lose count 22.5/4.0 (18.5)\n",
            "Epoch 072/080 | Loss 0.4183 | Win/lose count 16.5/7.0 (9.5)\n",
            "Epoch 073/080 | Loss 0.0268 | Win/lose count 15.5/3.0 (12.5)\n",
            "Epoch 074/080 | Loss 0.0267 | Win/lose count 25.0/7.0 (18.0)\n",
            "Epoch 075/080 | Loss 0.0307 | Win/lose count 26.5/4.0 (22.5)\n",
            "Epoch 076/080 | Loss 0.0187 | Win/lose count 19.0/7.0 (12.0)\n",
            "Epoch 077/080 | Loss 0.0288 | Win/lose count 24.0/7.0 (17.0)\n",
            "Epoch 078/080 | Loss 0.0219 | Win/lose count 17.0/6.0 (11.0)\n",
            "Epoch 079/080 | Loss 0.0305 | Win/lose count 25.0/3.0 (22.0)\n"
          ],
          "name": "stdout"
        },
        {
          "output_type": "execute_result",
          "data": {
            "text/html": [
              "<video alt=\"test\" controls>\n",
              "                <source src=\"data:video/mp4;base64,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\" type=\"video/mp4\" />\n",
              "             </video>"
            ],
            "text/plain": [
              "<IPython.core.display.HTML object>"
            ]
          },
          "metadata": {
            "tags": []
          },
          "execution_count": 69
        }
      ]
    },
    {
      "cell_type": "markdown",
      "metadata": {
        "id": "Bij2Lx6Fsnz7",
        "colab_type": "text"
      },
      "source": [
        "***\n",
        "***\n",
        "__Question 9__ Test both algorithms and compare their performances. Which issue(s) do you observe? Observe also different behaviors by changing the temperature."
      ]
    },
    {
      "cell_type": "code",
      "metadata": {
        "id": "fiOAOMlVsnz8",
        "colab_type": "code",
        "outputId": "009b4931-f42a-4df4-9f9c-13257796bddf",
        "colab": {
          "base_uri": "https://localhost:8080/",
          "height": 790
        }
      },
      "source": [
        "env = Environment(grid_size=size, max_time=T,temperature=0.8)\n",
        "agent_cnn = DQN_CNN(size, lr=.1, epsilon = 0.3, memory_size=2000, batch_size = 32)\n",
        "agent_cnn.load(name_weights='cnn_trainmodel.h5',name_model='cnn_trainmodel.json')\n",
        "\n",
        "agent_fc = DQN_FC(size, lr=.1, epsilon = 0.3, memory_size=2000, batch_size = 32)\n",
        "agent_fc.load(name_weights='fc_trainmodel.h5',name_model='fc_trainmodel.json')\n",
        "print('Test of the CNN')\n",
        "test(agent_cnn,env,epochs=21,prefix='cnn_test')\n",
        "print('Test of the FC')\n",
        "test(agent_fc,env,epochs=21,prefix='fc_test')"
      ],
      "execution_count": 70,
      "outputs": [
        {
          "output_type": "stream",
          "text": [
            "Test of the CNN\n",
            "Win/lose count 24.5/1.0. Average score (23.5)\n",
            "Win/lose count 15.5/0. Average score (19.5)\n",
            "Win/lose count 23.0/0. Average score (20.666666666666668)\n",
            "Win/lose count 18.5/0. Average score (20.125)\n",
            "Win/lose count 10.5/0. Average score (18.2)\n",
            "Win/lose count 24.5/0. Average score (19.25)\n",
            "Win/lose count 30.0/1.0. Average score (20.642857142857142)\n",
            "Win/lose count 28.5/2.0. Average score (21.375)\n",
            "Win/lose count 15.5/1.0. Average score (20.61111111111111)\n",
            "Win/lose count 26.5/0. Average score (21.2)\n",
            "Win/lose count 9.5/0. Average score (20.136363636363637)\n",
            "Win/lose count 49.0/1.0. Average score (22.458333333333332)\n",
            "Win/lose count 38.0/0. Average score (23.653846153846153)\n",
            "Win/lose count 28.0/2.0. Average score (23.821428571428573)\n",
            "Win/lose count 5.5/0. Average score (22.6)\n",
            "Win/lose count 8.0/0. Average score (21.6875)\n",
            "Win/lose count 9.0/0. Average score (20.941176470588236)\n",
            "Win/lose count 4.0/0. Average score (20.0)\n",
            "Win/lose count 2.0/0. Average score (19.05263157894737)\n",
            "Win/lose count 9.5/0. Average score (18.575)\n",
            "Win/lose count 9.5/0. Average score (18.142857142857142)\n",
            "Final score: 18.142857142857142\n",
            "Test of the FC\n",
            "Win/lose count 22.0/0. Average score (22.0)\n",
            "Win/lose count 6.0/0. Average score (14.0)\n",
            "Win/lose count 20.0/0. Average score (16.0)\n",
            "Win/lose count 8.5/0. Average score (14.125)\n",
            "Win/lose count 17.5/0. Average score (14.8)\n",
            "Win/lose count 18.0/0. Average score (15.333333333333334)\n",
            "Win/lose count 12.5/0. Average score (14.928571428571429)\n",
            "Win/lose count 21.0/0. Average score (15.6875)\n",
            "Win/lose count 37.0/1.0. Average score (17.944444444444443)\n",
            "Win/lose count 6.5/0. Average score (16.8)\n",
            "Win/lose count 32.0/0. Average score (18.181818181818183)\n",
            "Win/lose count 22.0/0. Average score (18.5)\n",
            "Win/lose count 2.0/0. Average score (17.23076923076923)\n",
            "Win/lose count 3.5/0. Average score (16.25)\n",
            "Win/lose count 28.5/0. Average score (17.066666666666666)\n",
            "Win/lose count 19.0/0. Average score (17.1875)\n",
            "Win/lose count 15.0/0. Average score (17.058823529411764)\n",
            "Win/lose count 10.5/0. Average score (16.694444444444443)\n",
            "Win/lose count 1.5/0. Average score (15.894736842105264)\n",
            "Win/lose count 29.0/0. Average score (16.55)\n",
            "Win/lose count 6.5/0. Average score (16.071428571428573)\n",
            "Final score: 16.071428571428573\n"
          ],
          "name": "stdout"
        }
      ]
    },
    {
      "cell_type": "code",
      "metadata": {
        "id": "T4k11B7Esn0A",
        "colab_type": "code",
        "outputId": "a2d9e34e-bfc2-493b-9901-22ee48f04ab2",
        "colab": {
          "base_uri": "https://localhost:8080/",
          "height": 293
        }
      },
      "source": [
        "HTML(display_videos('cnn_test20.mp4'))"
      ],
      "execution_count": 71,
      "outputs": [
        {
          "output_type": "execute_result",
          "data": {
            "text/html": [
              "<video alt=\"test\" controls>\n",
              "                <source src=\"data:video/mp4;base64,AAAAIGZ0eXBpc29tAAACAGlzb21pc28yYXZjMW1wNDEAAAAIZnJlZQAAFdltZGF0AAACrQYF//+p3EXpvebZSLeWLNgg2SPu73gyNjQgLSBjb3JlIDE1MiByMjg1NCBlOWE1OTAzIC0gSC4yNjQvTVBFRy00IEFWQyBjb2RlYyAtIENvcHlsZWZ0IDIwMDMtMjAxNyAtIGh0dHA6Ly93d3cudmlkZW9sYW4ub3JnL3gyNjQuaHRtbCAtIG9wdGlvbnM6IGNhYmFjPTEgcmVmPTMgZGVibG9jaz0xOjA6MCBhbmFseXNlPTB4MToweDExMSBtZT1oZXggc3VibWU9NyBwc3k9MSBwc3lfcmQ9MS4wMDowLjAwIG1peGVkX3JlZj0xIG1lX3JhbmdlPTE2IGNocm9tYV9tZT0xIHRyZWxsaXM9MSA4eDhkY3Q9MCBjcW09MCBkZWFkem9uZT0yMSwxMSBmYXN0X3Bza2lwPTEgY2hyb21hX3FwX29mZnNldD00IHRocmVhZHM9MyBsb29rYWhlYWRfdGhyZWFkcz0xIHNsaWNlZF90aHJlYWRzPTAgbnI9MCBkZWNpbWF0ZT0xIGludGVybGFjZWQ9MCBibHVyYXlfY29tcGF0PTAgY29uc3RyYWluZWRfaW50cmE9MCBiZnJhbWVzPTMgYl9weXJhbWlkPTIgYl9hZGFwdD0xIGJfYmlhcz0wIGRpcmVjdD0xIHdlaWdodGI9MSBvcGVuX2dvcD0wIHdlaWdodHA9MiBrZXlpbnQ9MjUwIGtleWludF9taW49MjUgc2NlbmVjdXQ9NDAgaW50cmFfcmVmcmVzaD0wIHJjX2xvb2thaGVhZD00MCByYz1jcmYgbWJ0cmVlPTEgY3JmPTIzLjAgcWNvbXA9MC42MCBxcG1pbj0wIHFwbWF4PTY5IHFwc3RlcD00IGlwX3JhdGlvPTEuNDAgYXE9MToxLjAwAIAAAAGoZYiEADP//vaG+BTYUyP+T7/8I/+5H7cfWfrixkIJvrVeQ9GAMl8a/5lGYaXpyc8t7R+vTNAEZz6HlLJIofgUkwDfMsjnE4or/1OaI4gzBDKY1aXEsylOynwpbBzOtj5c6uVdX891w5hOl9qZ0Zlv6gyU6nEedOxId2C1ajAetsLL/74YACQ7GknCfo6Ak83P6u4XMlaIvgE18ogdkAOPDdzEe+mCvQ1twA9nTPJQbWKEdKZVgwsqjM0V5iNUJgWlfp1YMK6oy0iu0E3g8BBPCUB1urvzLPii5bcWZrd5NLmTKGvwYRXivjcCnVedTOoxtlPP+QA+p9AVqZI7gTP5bp075RAn16n0S+7E5kinG3I5ya+J35nwFqNHKV620aEgBzAmTTemiPNhSU4jhtdISO89oJe6bljgalRBjlWNFTxW9SjH7kIqRS/IfWwVLdG/0V9EpuKhdOCsQgIOwPEY6ukxtxNteDkeTmhpkOYYvrIJ79zSzd5PUAVALrENzj8Knv3RURg8Ag6o2s4TOo3tZTmtYmMthBlVXeRH6ImTRDTykCKaiACygQAAABRBmiFsQz/+nhAA/YkGwC88yqP/gAAAABdBmkI8IZMphDP//p4QAQUQ49wrUEQ7iQAAABdBmmNJ4Q8mUwIZ//6eEAEFEOPgXzW6pAAAABtBmoRJ4Q8mUwIZ//6eEAGRkMc/hz4gKZ+s4sEAAAAYQZqlSeEPJlMCGf/+nhACanCOfowHZn7LAAAAGUGaxknhDyZTAhn//p4QAnohx71tg52Og4EAAAAcQZrnSeEPJlMCG//+p4QAp2K0c1/ipzQjT94ozQAAABlBmwhJ4Q8mUwIb//6nhAD8nGf6j2ByTgz4AAAAIUGbLEnhDyZTAhn//p4QBrd7muOYa+8wv7+bes2gfBssoAAAABVBn0pFETwv/wDypsgBx9FjE8eRBx0AAAAQAZ9pdEK/AT/NEifFmKNUkAAAABABn2tqQr8BUbCPJcz5JNuAAAAAG0GbbUmoQWiZTAhn//6eEAa5e0viC7ZnhwAkPQAAABpBm45J4QpSZTAhn/6eEAP37H5R+RIj6whqQQAAABpBm69J4Q6JlMCGf/6eEAKvXuNC8AG5/PHPSQAAABhBm9BJ4Q8mUwIZ//6eEALBXuL5sg0W2ggAAAAcQZvxSeEPJlMCGf/+nhAC017i+bIMoE8TvvFCYAAAAB5BmhJJ4Q8mUwIb//6nhAC94rRzX+KnNQtKN/+incEAAAAaQZozSeEPJlMCG//+p4QAwrq0c1/ipzUMP8AAAAAaQZpWSeEPJlMCG//+p4QAx7q0c1/ipzUMPmAAAAAPQZ50RRE8K/8Ao7W4a2VBAAAADwGelWpCvwCj0o3qsAKj4AAAABJBmphJqEFomUwU8N/+p4QAAScAAAAQAZ63akK/AKPwoNbX3LlR8QAAABJBmrpJ4QpSZTBSw3/+p4QAAScAAAARAZ7ZakK/AKOBDBuTjfc4VH0AAAASQZrcSeEOiZTBRMN//qeEAAEnAAAAEQGe+2pCvwCjgQwbk433OFR9AAAAEkGa/knhDyZTBTw3//6nhAABJwAAABEBnx1qQr8Ao4EMG5ON9zhUfAAAABJBmwBJ4Q8mUwU8N//+p4QAAScAAAARAZ8/akK/AKOBDBuTjfc4VH0AAAASQZsiSeEPJlMFPDf//qeEAAEnAAAAEQGfQWpCvwCjgQwbk433OFR9AAAAEkGbREnhDyZTBTw3//6nhAABJwAAABEBn2NqQr8Ao4EMG5ON9zhUfQAAABJBm2ZJ4Q8mUwU8N//+p4QAAScAAAARAZ+FakK/AKOBDBuTjfc4VH0AAAASQZuISeEPJlMFPDf//qeEAAEnAAAAEQGfp2pCvwCjgQwbk433OFR8AAAAEkGbqknhDyZTBTw3//6nhAABJwAAABEBn8lqQr8Ao4EMG5ON9zhUfQAAABJBm8xJ4Q8mUwU8N//+p4QAAScAAAARAZ/rakK/AKOBDBuTjfc4VHwAAAASQZvuSeEPJlMFPDf//qeEAAEnAAAAEQGeDWpCvwCjgQwbk433OFR9AAAAEkGaEEnhDyZTBTw3//6nhAABJwAAABEBni9qQr8Ao4EMG5ON9zhUfAAAABJBmjJJ4Q8mUwU8N//+p4QAAScAAAARAZ5RakK/AKOBDBuTjfc4VH0AAAASQZpUSeEPJlMFPDf//qeEAAEnAAAAEQGec2pCvwCjgQwbk433OFR8AAAAEkGadknhDyZTBTw3//6nhAABJwAAABEBnpVqQr8Ao4EMG5ON9zhUfAAAABJBmphJ4Q8mUwU8N//+p4QAAScAAAARAZ63akK/AKOBDBuTjfc4VH0AAAASQZq6SeEPJlMFPDf//qeEAAEnAAAAEQGe2WpCvwCjgQwbk433OFR9AAAAEkGa3EnhDyZTBTw3//6nhAABJwAAABEBnvtqQr8Ao4EMG5ON9zhUfQAAABJBmv5J4Q8mUwU8N//+p4QAAScAAAARAZ8dakK/AKOBDBuTjfc4VHwAAAASQZsASeEPJlMFPDf//qeEAAEnAAAAEQGfP2pCvwCjgQwbk433OFR9AAAAEkGbIknhDyZTBTw3//6nhAABJwAAABEBn0FqQr8Ao4EMG5ON9zhUfQAAABJBm0RJ4Q8mUwU8N//+p4QAAScAAAARAZ9jakK/AKOBDBuTjfc4VH0AAAASQZtmSeEPJlMFPDf//qeEAAEnAAAAEQGfhWpCvwCjgQwbk433OFR9AAAAEkGbiEnhDyZTBTw3//6nhAABJwAAABEBn6dqQr8Ao4EMG5ON9zhUfAAAABJBm6pJ4Q8mUwU8N//+p4QAAScAAAARAZ/JakK/AKOBDBuTjfc4VH0AAAASQZvMSeEPJlMFPDf//qeEAAEnAAAAEQGf62pCvwCjgQwbk433OFR8AAAAEkGb7knhDyZTBTw3//6nhAABJwAAABEBng1qQr8Ao4EMG5ON9zhUfQAAABJBmhBJ4Q8mUwU8N//+p4QAAScAAAARAZ4vakK/AKOBDBuTjfc4VHwAAAASQZoySeEPJlMFPDf//qeEAAEnAAAAEQGeUWpCvwCjgQwbk433OFR9AAAAEkGaVEnhDyZTBTw3//6nhAABJwAAABEBnnNqQr8Ao4EMG5ON9zhUfAAAABJBmnZJ4Q8mUwU8N//+p4QAAScAAAARAZ6VakK/AKOBDBuTjfc4VHwAAAASQZqYSeEPJlMFPDf//qeEAAEnAAAAEQGet2pCvwCjgQwbk433OFR9AAAAEkGauknhDyZTBTw3//6nhAABJwAAABEBntlqQr8Ao4EMG5ON9zhUfQAAABJBmtxJ4Q8mUwU8N//+p4QAAScAAAARAZ77akK/AKOBDBuTjfc4VH0AAAASQZr+SeEPJlMFPDf//qeEAAEnAAAAEQGfHWpCvwCjgQwbk433OFR8AAAAEkGbAEnhDyZTBTw3//6nhAABJwAAABEBnz9qQr8Ao4EMG5ON9zhUfQAAABJBmyJJ4Q8mUwU8N//+p4QAAScAAAARAZ9BakK/AKOBDBuTjfc4VH0AAAASQZtESeEPJlMFPDf//qeEAAEnAAAAEQGfY2pCvwCjgQwbk433OFR9AAAAEkGbZknhDyZTBTw3//6nhAABJwAAABEBn4VqQr8Ao4EMG5ON9zhUfQAAABJBm4hJ4Q8mUwU8N//+p4QAAScAAAARAZ+nakK/AKOBDBuTjfc4VHwAAAASQZuqSeEPJlMFPDf//qeEAAEnAAAAEQGfyWpCvwCjgQwbk433OFR9AAAAEkGbzEnhDyZTBTw3//6nhAABJwAAABEBn+tqQr8Ao4EMG5ON9zhUfAAAABJBm+5J4Q8mUwU8N//+p4QAAScAAAARAZ4NakK/AKOBDBuTjfc4VH0AAAASQZoQSeEPJlMFPDf//qeEAAEnAAAAEQGeL2pCvwCjgQwbk433OFR8AAAAEkGaMknhDyZTBTw3//6nhAABJwAAABEBnlFqQr8Ao4EMG5ON9zhUfQAAABJBmlRJ4Q8mUwU8N//+p4QAAScAAAARAZ5zakK/AKOBDBuTjfc4VHwAAAASQZp2SeEPJlMFPDf//qeEAAEnAAAAEQGelWpCvwCjgQwbk433OFR8AAAAEkGamEnhDyZTBTw3//6nhAABJwAAABEBnrdqQr8Ao4EMG5ON9zhUfQAAABJBmrpJ4Q8mUwU8N//+p4QAAScAAAARAZ7ZakK/AKOBDBuTjfc4VH0AAAASQZrcSeEPJlMFPDf//qeEAAEnAAAAEQGe+2pCvwCjgQwbk433OFR9AAAAEkGa/knhDyZTBTw3//6nhAABJwAAABEBnx1qQr8Ao4EMG5ON9zhUfAAAABJBmwBJ4Q8mUwU8N//+p4QAAScAAAARAZ8/akK/AKOBDBuTjfc4VH0AAAASQZsiSeEPJlMFPDf//qeEAAEnAAAAEQGfQWpCvwCjgQwbk433OFR9AAAAEkGbREnhDyZTBTw3//6nhAABJwAAABEBn2NqQr8Ao4EMG5ON9zhUfQAAABJBm2ZJ4Q8mUwU8N//+p4QAAScAAAARAZ+FakK/AKOBDBuTjfc4VH0AAAASQZuISeEPJlMFPDf//qeEAAEnAAAAEQGfp2pCvwCjgQwbk433OFR8AAAAEkGbqknhDyZTBTw3//6nhAABJwAAABEBn8lqQr8Ao4EMG5ON9zhUfQAAABJBm8xJ4Q8mUwU8N//+p4QAAScAAAARAZ/rakK/AKOBDBuTjfc4VHwAAAASQZvuSeEPJlMFPDf//qeEAAEnAAAAEQGeDWpCvwCjgQwbk433OFR9AAAAEkGaEEnhDyZTBTw3//6nhAABJwAAABEBni9qQr8Ao4EMG5ON9zhUfAAAABJBmjJJ4Q8mUwU8N//+p4QAAScAAAARAZ5RakK/AKOBDBuTjfc4VH0AAAASQZpUSeEPJlMFPDf//qeEAAEnAAAAEQGec2pCvwCjgQwbk433OFR8AAAAEkGadknhDyZTBTw3//6nhAABJwAAABEBnpVqQr8Ao4EMG5ON9zhUfAAAABJBmphJ4Q8mUwU8N//+p4QAAScAAAARAZ63akK/AKOBDBuTjfc4VH0AAAASQZq6SeEPJlMFPDf//qeEAAEnAAAAEQGe2WpCvwCjgQwbk433OFR9AAAAEkGa3EnhDyZTBTw3//6nhAABJwAAABEBnvtqQr8Ao4EMG5ON9zhUfQAAABJBmv5J4Q8mUwU8N//+p4QAAScAAAARAZ8dakK/AKOBDBuTjfc4VHwAAAASQZsASeEPJlMFPDf//qeEAAEnAAAAEQGfP2pCvwCjgQwbk433OFR9AAAAEkGbIknhDyZTBTw3//6nhAABJwAAABEBn0FqQr8Ao4EMG5ON9zhUfQAAABJBm0RJ4Q8mUwU8N//+p4QAAScAAAARAZ9jakK/AKOBDBuTjfc4VH0AAAASQZtmSeEPJlMFPDf//qeEAAEnAAAAEQGfhWpCvwCjgQwbk433OFR9AAAAEkGbiEnhDyZTBTw3//6nhAABJwAAABEBn6dqQr8Ao4EMG5ON9zhUfAAAABJBm6pJ4Q8mUwU8N//+p4QAAScAAAARAZ/JakK/AKOBDBuTjfc4VH0AAAASQZvMSeEPJlMFPDf//qeEAAEnAAAAEQGf62pCvwCjgQwbk433OFR8AAAAEkGb7knhDyZTBTw3//6nhAABJwAAABEBng1qQr8Ao4EMG5ON9zhUfQAAABJBmhBJ4Q8mUwU8N//+p4QAAScAAAARAZ4vakK/AKOBDBuTjfc4VHwAAAASQZoySeEPJlMFPDf//qeEAAEnAAAAEQGeUWpCvwCjgQwbk433OFR9AAAAEkGaVEnhDyZTBTw3//6nhAABJwAAABEBnnNqQr8Ao4EMG5ON9zhUfAAAABJBmnZJ4Q8mUwU8N//+p4QAAScAAAARAZ6VakK/AKOBDBuTjfc4VHwAAAASQZqYSeEPJlMFPDf//qeEAAEnAAAAEQGet2pCvwCjgQwbk433OFR9AAAAEkGauknhDyZTBTw3//6nhAABJwAAABEBntlqQr8Ao4EMG5ON9zhUfQAAABJBmtxJ4Q8mUwU8N//+p4QAAScAAAARAZ77akK/AKOBDBuTjfc4VH0AAAASQZr+SeEPJlMFPDf//qeEAAEnAAAAEQGfHWpCvwCjgQwbk433OFR8AAAAEkGbAEnhDyZTBTw3//6nhAABJwAAABEBnz9qQr8Ao4EMG5ON9zhUfQAAABJBmyJJ4Q8mUwU8N//+p4QAAScAAAARAZ9BakK/AKOBDBuTjfc4VH0AAAASQZtESeEPJlMFPDP//p4QAAR8AAAAEQGfY2pCvwCjgQwbk433OFR9AAAAEkGbZknhDyZTBTwz//6eEAAEfQAAABEBn4VqQr8Ao4EMG5ON9zhUfQAAABJBm4hJ4Q8mUwU8L//+jLAABI0AAAARAZ+nakK/AKOBDBuTjfc4VHwAAAAaQZupS+EIQ8kRggoB/IB/YeAIV//+OEAAEXAAAAwQbW9vdgAAAGxtdmhkAAAAAAAAAAAAAAAAAAAD6AAAH5AAAQAAAQAAAAAAAAAAAAAAAAEAAAAAAAAAAAAAAAAAAAABAAAAAAAAAAAAAAAAAABAAAAAAAAAAAAAAAAAAAAAAAAAAAAAAAAAAAAAAAAAAgAACzp0cmFrAAAAXHRraGQAAAADAAAAAAAAAAAAAAABAAAAAAAAH5AAAAAAAAAAAAAAAAAAAAAAAAEAAAAAAAAAAAAAAAAAAAABAAAAAAAAAAAAAAAAAABAAAAAARAAAAEQAAAAAAAkZWR0cwAAABxlbHN0AAAAAAAAAAEAAB+QAAAEAAABAAAAAAqybWRpYQAAACBtZGhkAAAAAAAAAAAAAAAAAAAyAAABlABVxAAAAAAALWhkbHIAAAAAAAAAAHZpZGUAAAAAAAAAAAAAAABWaWRlb0hhbmRsZXIAAAAKXW1pbmYAAAAUdm1oZAAAAAEAAAAAAAAAAAAAACRkaW5mAAAAHGRyZWYAAAAAAAAAAQAAAAx1cmwgAAAAAQAACh1zdGJsAAAAlXN0c2QAAAAAAAAAAQAAAIVhdmMxAAAAAAAAAAEAAAAAAAAAAAAAAAAAAAAAARABEABIAAAASAAAAAAAAAABAAAAAAAAAAAAAAAAAAAAAAAAAAAAAAAAAAAAAAAAAAAAGP//AAAAL2F2Y0MB9AAN/+EAF2f0AA2RmygiEdCAAAADAIAAABkHihTLAQAFaOvjxEgAAAAYc3R0cwAAAAAAAAABAAAAygAAAgAAAAAUc3RzcwAAAAAAAAABAAAAAQAABehjdHRzAAAAAAAAALsAAAAJAAAEAAAAAAEAAAoAAAAAAQAABAAAAAABAAAAAAAAAAEAAAIAAAAABwAABAAAAAABAAAIAAAAAAIAAAIAAAAAAQAABgAAAAABAAACAAAAAAEAAAYAAAAAAQAAAgAAAAABAAAGAAAAAAEAAAIAAAAAAQAABgAAAAABAAACAAAAAAEAAAYAAAAAAQAAAgAAAAABAAAGAAAAAAEAAAIAAAAAAQAABgAAAAABAAACAAAAAAEAAAYAAAAAAQAAAgAAAAABAAAGAAAAAAEAAAIAAAAAAQAABgAAAAABAAACAAAAAAEAAAYAAAAAAQAAAgAAAAABAAAGAAAAAAEAAAIAAAAAAQAABgAAAAABAAACAAAAAAEAAAYAAAAAAQAAAgAAAAABAAAGAAAAAAEAAAIAAAAAAQAABgAAAAABAAACAAAAAAEAAAYAAAAAAQAAAgAAAAABAAAGAAAAAAEAAAIAAAAAAQAABgAAAAABAAACAAAAAAEAAAYAAAAAAQAAAgAAAAABAAAGAAAAAAEAAAIAAAAAAQAABgAAAAABAAACAAAAAAEAAAYAAAAAAQAAAgAAAAABAAAGAAAAAAEAAAIAAAAAAQAABgAAAAABAAACAAAAAAEAAAYAAAAAAQAAAgAAAAABAAAGAAAAAAEAAAIAAAAAAQAABgAAAAABAAACAAAAAAEAAAYAAAAAAQAAAgAAAAABAAAGAAAAAAEAAAIAAAAAAQAABgAAAAABAAACAAAAAAEAAAYAAAAAAQAAAgAAAAABAAAGAAAAAAEAAAIAAAAAAQAABgAAAAABAAACAAAAAAEAAAYAAAAAAQAAAgAAAAABAAAGAAAAAAEAAAIAAAAAAQAABgAAAAABAAACAAAAAAEAAAYAAAAAAQAAAgAAAAABAAAGAAAAAAEAAAIAAAAAAQAABgAAAAABAAACAAAAAAEAAAYAAAAAAQAAAgAAAAABAAAGAAAAAAEAAAIAAAAAAQAABgAAAAABAAACAAAAAAEAAAYAAAAAAQAAAgAAAAABAAAGAAAAAAEAAAIAAAAAAQAABgAAAAABAAACAAAAAAEAAAYAAAAAAQAAAgAAAAABAAAGAAAAAAEAAAIAAAAAAQAABgAAAAABAAACAAAAAAEAAAYAAAAAAQAAAgAAAAABAAAGAAAAAAEAAAIAAAAAAQAABgAAAAABAAACAAAAAAEAAAYAAAAAAQAAAgAAAAABAAAGAAAAAAEAAAIAAAAAAQAABgAAAAABAAACAAAAAAEAAAYAAAAAAQAAAgAAAAABAAAGAAAAAAEAAAIAAAAAAQAABgAAAAABAAACAAAAAAEAAAYAAAAAAQAAAgAAAAABAAAGAAAAAAEAAAIAAAAAAQAABgAAAAABAAACAAAAAAEAAAYAAAAAAQAAAgAAAAABAAAGAAAAAAEAAAIAAAAAAQAABgAAAAABAAACAAAAAAEAAAYAAAAAAQAAAgAAAAABAAAGAAAAAAEAAAIAAAAAAQAABgAAAAABAAACAAAAAAEAAAYAAAAAAQAAAgAAAAABAAAGAAAAAAEAAAIAAAAAAQAABgAAAAABAAACAAAAAAEAAAYAAAAAAQAAAgAAAAABAAAGAAAAAAEAAAIAAAAAAQAABgAAAAABAAACAAAAAAEAAAYAAAAAAQAAAgAAAAABAAAGAAAAAAEAAAIAAAAAAQAABgAAAAABAAACAAAAAAEAAAYAAAAAAQAAAgAAAAABAAAGAAAAAAEAAAIAAAAAAQAABgAAAAABAAACAAAAAAEAAAYAAAAAAQAAAgAAAAABAAAGAAAAAAEAAAIAAAAAAQAABgAAAAABAAACAAAAAAEAAAYAAAAAAQAAAgAAAAABAAAGAAAAAAEAAAIAAAAAAQAABgAAAAABAAACAAAAAAEAAAYAAAAAAQAAAgAAAAABAAAGAAAAAAEAAAIAAAAAAQAABgAAAAABAAACAAAAAAEAAAYAAAAAAQAAAgAAAAABAAAEAAAAABxzdHNjAAAAAAAAAAEAAAABAAAAygAAAAEAAAM8c3RzegAAAAAAAAAAAAAAygAABF0AAAAYAAAAGwAAABsAAAAfAAAAHAAAAB0AAAAgAAAAHQAAACUAAAAZAAAAFAAAABQAAAAfAAAAHgAAAB4AAAAcAAAAIAAAACIAAAAeAAAAHgAAABMAAAATAAAAFgAAABQAAAAWAAAAFQAAABYAAAAVAAAAFgAAABUAAAAWAAAAFQAAABYAAAAVAAAAFgAAABUAAAAWAAAAFQAAABYAAAAVAAAAFgAAABUAAAAWAAAAFQAAABYAAAAVAAAAFgAAABUAAAAWAAAAFQAAABYAAAAVAAAAFgAAABUAAAAWAAAAFQAAABYAAAAVAAAAFgAAABUAAAAWAAAAFQAAABYAAAAVAAAAFgAAABUAAAAWAAAAFQAAABYAAAAVAAAAFgAAABUAAAAWAAAAFQAAABYAAAAVAAAAFgAAABUAAAAWAAAAFQAAABYAAAAVAAAAFgAAABUAAAAWAAAAFQAAABYAAAAVAAAAFgAAABUAAAAWAAAAFQAAABYAAAAVAAAAFgAAABUAAAAWAAAAFQAAABYAAAAVAAAAFgAAABUAAAAWAAAAFQAAABYAAAAVAAAAFgAAABUAAAAWAAAAFQAAABYAAAAVAAAAFgAAABUAAAAWAAAAFQAAABYAAAAVAAAAFgAAABUAAAAWAAAAFQAAABYAAAAVAAAAFgAAABUAAAAWAAAAFQAAABYAAAAVAAAAFgAAABUAAAAWAAAAFQAAABYAAAAVAAAAFgAAABUAAAAWAAAAFQAAABYAAAAVAAAAFgAAABUAAAAWAAAAFQAAABYAAAAVAAAAFgAAABUAAAAWAAAAFQAAABYAAAAVAAAAFgAAABUAAAAWAAAAFQAAABYAAAAVAAAAFgAAABUAAAAWAAAAFQAAABYAAAAVAAAAFgAAABUAAAAWAAAAFQAAABYAAAAVAAAAFgAAABUAAAAWAAAAFQAAABYAAAAVAAAAFgAAABUAAAAWAAAAFQAAABYAAAAVAAAAFgAAABUAAAAWAAAAFQAAABYAAAAVAAAAFgAAABUAAAAWAAAAFQAAABYAAAAVAAAAFgAAABUAAAAWAAAAFQAAAB4AAAAUc3RjbwAAAAAAAAABAAAAMAAAAGJ1ZHRhAAAAWm1ldGEAAAAAAAAAIWhkbHIAAAAAAAAAAG1kaXJhcHBsAAAAAAAAAAAAAAAALWlsc3QAAAAlqXRvbwAAAB1kYXRhAAAAAQAAAABMYXZmNTcuODMuMTAw\" type=\"video/mp4\" />\n",
              "             </video>"
            ],
            "text/plain": [
              "<IPython.core.display.HTML object>"
            ]
          },
          "metadata": {
            "tags": []
          },
          "execution_count": 71
        }
      ]
    },
    {
      "cell_type": "code",
      "metadata": {
        "id": "veqcNrf3sn0F",
        "colab_type": "code",
        "outputId": "f8dc8b7c-ed75-4218-acdf-7009c69cd6b7",
        "colab": {
          "base_uri": "https://localhost:8080/",
          "height": 293
        }
      },
      "source": [
        "HTML(display_videos('fc_test20.mp4'))"
      ],
      "execution_count": 72,
      "outputs": [
        {
          "output_type": "execute_result",
          "data": {
            "text/html": [
              "<video alt=\"test\" controls>\n",
              "                <source src=\"data:video/mp4;base64,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\" type=\"video/mp4\" />\n",
              "             </video>"
            ],
            "text/plain": [
              "<IPython.core.display.HTML object>"
            ]
          },
          "metadata": {
            "tags": []
          },
          "execution_count": 72
        }
      ]
    },
    {
      "cell_type": "markdown",
      "metadata": {
        "id": "-Zw9N9q4sn0I",
        "colab_type": "text"
      },
      "source": [
        "- The model with CNN layers is more efficient than the model with FC layers, for all the values of the temperature. This is happening because the CNN allows a better spatial representation hence a better decision.\n",
        "- But the videos show that the two models are suffering from the issue of the agent oscillating over a position, setting the epsilon ratio high helps avoid this issue and introduces more exploration.\n",
        "- Setting the Temperature high (0.8) allows more exploration, because the agent can follow a path made only by red cases.\n"
      ]
    },
    {
      "cell_type": "markdown",
      "metadata": {
        "id": "5pkB_rPusn0K",
        "colab_type": "text"
      },
      "source": [
        "***\n",
        "\n",
        "The algorithm tends to not explore the map which can be an issue. We propose two ideas in order to encourage exploration:\n",
        "1. Incorporating a decreasing $\\epsilon$-greedy exploration. You can use the method ```set_epsilon```\n",
        "2. Append via the environment a new state that describes if a cell has been visited or not\n",
        "\n",
        "***\n",
        "__Question 10__ Design a new ```train_explore``` function and environment class ```EnvironmentExploring``` to tackle the issue of exploration.\n",
        "\n"
      ]
    },
    {
      "cell_type": "code",
      "metadata": {
        "id": "mOdrePmtsn0L",
        "colab_type": "code",
        "colab": {}
      },
      "source": [
        "def train_explore(agent,env,epoch,prefix=''):\n",
        "    # Number of won games\n",
        "    score = 0\n",
        "    loss = 0\n",
        "    rate=0.99\n",
        "    k = 1/8\n",
        "    epsilon_final = 0.1\n",
        "    for e in range(epoch):\n",
        "        # At each epoch, we restart to a fresh game and get the initial state\n",
        "        state = env.reset()\n",
        "        # This assumes that the games will terminate\n",
        "        game_over = False\n",
        "        new_eps = agent.epsilon/(1+k*e)\n",
        "        if new_eps > epsilon_final:\n",
        "            agent.set_epsilon(new_eps)\n",
        "        else :\n",
        "            agent.set_epsilon(epsilon_final) \n",
        "\n",
        "        win = 0\n",
        "        lose = 0\n",
        "        \n",
        "        while not game_over:\n",
        "            # The agent performs an action\n",
        "            action = agent.act(state)\n",
        "            \n",
        "            # Apply an action to the environment, get the next state, the reward\n",
        "            # and if the games end\n",
        "            prev_state = state\n",
        "            state, reward, game_over = env.act(action)\n",
        "\n",
        "            # Update the counters\n",
        "            if reward > 0:\n",
        "                win = round(win + reward,2)\n",
        "            if reward < 0:\n",
        "                lose = round(lose -reward,2)\n",
        "\n",
        "            # Apply the reinforcement strategy\n",
        "            loss = agent.reinforce(prev_state, state,  action, reward, game_over)\n",
        "\n",
        "        # Save as a mp4\n",
        "        if e % 10 == 0:\n",
        "            env.draw(prefix+str(e))\n",
        "\n",
        "        # Update stats\n",
        "        score += round(win-lose,2)\n",
        "\n",
        "        print(\"Epoch {:03d}/{:03d} | Loss {:.4f} | Win/lose count {}/{} ({})\"\n",
        "              .format(e, epoch, loss, win, lose, win-lose))\n",
        "        agent.save(name_weights=prefix+'model.h5',name_model=prefix+'model.json')\n",
        "        \n",
        "class EnvironmentExploring(object):\n",
        "    def __init__(self, grid_size=10, max_time=500, temperature=0.1):\n",
        "        grid_size = grid_size+4\n",
        "        self.grid_size = grid_size\n",
        "        self.max_time = max_time\n",
        "        self.temperature = temperature\n",
        "\n",
        "        #board on which one plays\n",
        "        self.board = np.zeros((grid_size,grid_size))\n",
        "        self.position = np.zeros((grid_size,grid_size))\n",
        "        self.malus_position = np.zeros((grid_size,grid_size))\n",
        "        # coordinate of the cat\n",
        "        self.x = 0\n",
        "        self.y = 1\n",
        "\n",
        "        # self time\n",
        "        self.t = 0\n",
        "\n",
        "        self.scale=16\n",
        "\n",
        "        self.to_draw = np.zeros((max_time+2, grid_size*self.scale, grid_size*self.scale, 3))\n",
        "\n",
        "\n",
        "    def draw(self,e):\n",
        "        skvideo.io.vwrite(str(e) + '.mp4', self.to_draw)\n",
        "\n",
        "    def get_frame(self,t):\n",
        "        b = np.zeros((self.grid_size,self.grid_size,3))+128\n",
        "        b[self.board>0,0] = 256\n",
        "        b[self.board < 0, 2] = 256\n",
        "        b[self.x,self.y,:]=256\n",
        "        b[-2:,:,:]=0\n",
        "        b[:,-2:,:]=0\n",
        "        b[:2,:,:]=0\n",
        "        b[:,:2,:]=0\n",
        "        \n",
        "        b =  cv2.resize(b, None, fx=self.scale, fy=self.scale, interpolation=cv2.INTER_NEAREST)\n",
        "\n",
        "        self.to_draw[t,:,:,:]=b\n",
        "\n",
        "\n",
        "    def act(self, action):\n",
        "        \"\"\"This function returns the new state, reward and decides if the\n",
        "        game ends.\"\"\"\n",
        "\n",
        "        self.get_frame(int(self.t))\n",
        "\n",
        "        self.position = np.zeros((self.grid_size, self.grid_size))\n",
        "\n",
        "        self.position[0:2,:]= -1\n",
        "        self.position[:,0:2] = -1\n",
        "        self.position[-2:, :] = -1\n",
        "        self.position[-2:, :] = -1\n",
        "\n",
        "        self.position[self.x, self.y] = 1\n",
        "        if action == 0:\n",
        "            if self.x == self.grid_size-3:\n",
        "                self.x = self.x-1\n",
        "            else:\n",
        "                self.x = self.x + 1\n",
        "        elif action == 1:\n",
        "            if self.x == 2:\n",
        "                self.x = self.x+1\n",
        "            else:\n",
        "                self.x = self.x-1\n",
        "        elif action == 2:\n",
        "            if self.y == self.grid_size - 3:\n",
        "                self.y = self.y - 1\n",
        "            else:\n",
        "                self.y = self.y + 1\n",
        "        elif action == 3:\n",
        "            if self.y == 2:\n",
        "                self.y = self.y + 1\n",
        "            else:\n",
        "                self.y = self.y - 1\n",
        "        else:\n",
        "            RuntimeError('Error: action not recognized')\n",
        "\n",
        "        self.t = self.t + 1\n",
        "        reward = 0\n",
        "        if train:\n",
        "            reward = - self.malus_position[self.x, self.y]\n",
        "        self.malus_position[self.x, self.y] = 0.5\n",
        "        reward += self.board[self.x, self.y]\n",
        "        self.board[self.x, self.y] = 0\n",
        "        game_over = self.t > self.max_time\n",
        "        state = np.concatenate((self.malus_position.reshape(self.grid_size, self.grid_size,1),\n",
        "                                self.board.reshape(self.grid_size, self.grid_size,1),\n",
        "                        self.position.reshape(self.grid_size, self.grid_size,1)),axis=2)\n",
        "        state = state[self.x-2:self.x+3,self.y-2:self.y+3,:]\n",
        "\n",
        "        return state, reward, game_over\n",
        "\n",
        "    def reset(self):\n",
        "        \"\"\"This function resets the game and returns the initial state\"\"\"\n",
        "\n",
        "        self.x = np.random.randint(3, self.grid_size-3, size=1)[0]\n",
        "        self.y = np.random.randint(3, self.grid_size-3, size=1)[0]\n",
        "\n",
        "\n",
        "        bonus = 0.5*np.random.binomial(1,self.temperature,size=self.grid_size**2)\n",
        "        bonus = bonus.reshape(self.grid_size,self.grid_size)\n",
        "\n",
        "        malus = -1.0*np.random.binomial(1,self.temperature,size=self.grid_size**2)\n",
        "        malus = malus.reshape(self.grid_size, self.grid_size)\n",
        "\n",
        "        self.to_draw = np.zeros((self.max_time+2, self.grid_size*self.scale, self.grid_size*self.scale, 3))\n",
        "\n",
        "\n",
        "        malus[bonus>0]=0\n",
        "\n",
        "        self.board = bonus + malus\n",
        "        self.malus_position = np.zeros((self.grid_size, self.grid_size))\n",
        "        self.position = np.zeros((self.grid_size, self.grid_size))\n",
        "        self.position[0:2,:]= -1\n",
        "        self.position[:,0:2] = -1\n",
        "        self.position[-2:, :] = -1\n",
        "        self.position[-2:, :] = -1\n",
        "        self.board[self.x,self.y] = 0\n",
        "        self.t = 0\n",
        "\n",
        "        state = np.concatenate((self.malus_position.reshape(self.grid_size, self.grid_size,1),\n",
        "                                self.board.reshape(self.grid_size, self.grid_size,1),\n",
        "                        self.position.reshape(self.grid_size, self.grid_size,1)),axis=2)\n",
        "        state = state[self.x - 2:self.x + 3, self.y - 2:self.y + 3, :]\n",
        "        return state\n",
        "    \n"
      ],
      "execution_count": 0,
      "outputs": []
    },
    {
      "cell_type": "code",
      "metadata": {
        "id": "vul-1AzYsn0Q",
        "colab_type": "code",
        "outputId": "b77618b6-4f65-4c5b-9595-9cf26f82d23b",
        "colab": {
          "base_uri": "https://localhost:8080/",
          "height": 1000
        }
      },
      "source": [
        "# Training\n",
        "env = EnvironmentExploring(grid_size=size, max_time=100, temperature=0.4)\n",
        "agent_cnn = DQN_CNN(size, lr=.1, epsilon = 0.7, memory_size=2000, batch_size = 32,n_state=3)\n",
        "train_explore(agent_cnn, env, epoch=90, prefix='cnn_train_explore')\n",
        "HTML(display_videos('cnn_train_explore80.mp4'))"
      ],
      "execution_count": 74,
      "outputs": [
        {
          "output_type": "stream",
          "text": [
            "Epoch 000/090 | Loss 0.0376 | Win/lose count 9.0/36.5 (-27.5)\n",
            "Epoch 001/090 | Loss 0.0890 | Win/lose count 8.0/42.0 (-34.0)\n",
            "Epoch 002/090 | Loss 0.0803 | Win/lose count 6.5/38.5 (-32.0)\n",
            "Epoch 003/090 | Loss 0.0502 | Win/lose count 8.5/35.5 (-27.0)\n",
            "Epoch 004/090 | Loss 0.0603 | Win/lose count 22.5/16.0 (6.5)\n",
            "Epoch 005/090 | Loss 0.0224 | Win/lose count 20.5/17.5 (3.0)\n",
            "Epoch 006/090 | Loss 0.0421 | Win/lose count 22.5/14.0 (8.5)\n",
            "Epoch 007/090 | Loss 0.0391 | Win/lose count 17.5/18.0 (-0.5)\n",
            "Epoch 008/090 | Loss 0.0699 | Win/lose count 19.0/19.5 (-0.5)\n",
            "Epoch 009/090 | Loss 0.1003 | Win/lose count 16.5/23.5 (-7.0)\n",
            "Epoch 010/090 | Loss 0.0963 | Win/lose count 29.0/11.5 (17.5)\n",
            "Epoch 011/090 | Loss 0.0714 | Win/lose count 21.0/20.0 (1.0)\n",
            "Epoch 012/090 | Loss 0.0816 | Win/lose count 21.5/13.0 (8.5)\n",
            "Epoch 013/090 | Loss 0.0925 | Win/lose count 25.5/11.5 (14.0)\n",
            "Epoch 014/090 | Loss 0.0862 | Win/lose count 21.5/15.0 (6.5)\n",
            "Epoch 015/090 | Loss 0.3092 | Win/lose count 24.5/14.0 (10.5)\n",
            "Epoch 016/090 | Loss 0.1318 | Win/lose count 20.0/24.5 (-4.5)\n",
            "Epoch 017/090 | Loss 0.0661 | Win/lose count 20.0/20.5 (-0.5)\n",
            "Epoch 018/090 | Loss 0.1392 | Win/lose count 21.0/16.0 (5.0)\n",
            "Epoch 019/090 | Loss 0.1155 | Win/lose count 20.5/17.5 (3.0)\n",
            "Epoch 020/090 | Loss 0.0860 | Win/lose count 15.5/27.0 (-11.5)\n",
            "Epoch 021/090 | Loss 0.2999 | Win/lose count 20.5/26.5 (-6.0)\n",
            "Epoch 022/090 | Loss 0.3881 | Win/lose count 26.0/14.0 (12.0)\n",
            "Epoch 023/090 | Loss 0.3641 | Win/lose count 14.0/33.0 (-19.0)\n",
            "Epoch 024/090 | Loss 0.1329 | Win/lose count 18.0/17.0 (1.0)\n",
            "Epoch 025/090 | Loss 0.1334 | Win/lose count 28.5/18.5 (10.0)\n",
            "Epoch 026/090 | Loss 0.0997 | Win/lose count 25.5/14.0 (11.5)\n",
            "Epoch 027/090 | Loss 0.0849 | Win/lose count 25.0/17.0 (8.0)\n",
            "Epoch 028/090 | Loss 0.1670 | Win/lose count 24.5/11.0 (13.5)\n",
            "Epoch 029/090 | Loss 0.1300 | Win/lose count 13.0/33.0 (-20.0)\n",
            "Epoch 030/090 | Loss 0.4168 | Win/lose count 20.5/15.0 (5.5)\n",
            "Epoch 031/090 | Loss 0.1339 | Win/lose count 25.0/15.0 (10.0)\n",
            "Epoch 032/090 | Loss 0.0686 | Win/lose count 20.5/18.5 (2.0)\n",
            "Epoch 033/090 | Loss 0.3736 | Win/lose count 18.0/20.0 (-2.0)\n",
            "Epoch 034/090 | Loss 0.2086 | Win/lose count 14.0/19.0 (-5.0)\n",
            "Epoch 035/090 | Loss 0.0775 | Win/lose count 21.5/14.5 (7.0)\n",
            "Epoch 036/090 | Loss 0.3624 | Win/lose count 20.0/18.5 (1.5)\n",
            "Epoch 037/090 | Loss 0.1225 | Win/lose count 16.5/22.0 (-5.5)\n",
            "Epoch 038/090 | Loss 0.0643 | Win/lose count 18.0/22.0 (-4.0)\n",
            "Epoch 039/090 | Loss 0.3500 | Win/lose count 18.5/26.0 (-7.5)\n",
            "Epoch 040/090 | Loss 0.0868 | Win/lose count 15.5/22.0 (-6.5)\n",
            "Epoch 041/090 | Loss 0.0947 | Win/lose count 26.0/9.5 (16.5)\n",
            "Epoch 042/090 | Loss 0.2037 | Win/lose count 19.0/21.5 (-2.5)\n",
            "Epoch 043/090 | Loss 0.0725 | Win/lose count 23.0/11.0 (12.0)\n",
            "Epoch 044/090 | Loss 0.0899 | Win/lose count 27.0/13.5 (13.5)\n",
            "Epoch 045/090 | Loss 0.2569 | Win/lose count 21.0/18.0 (3.0)\n",
            "Epoch 046/090 | Loss 0.0656 | Win/lose count 21.0/19.0 (2.0)\n",
            "Epoch 047/090 | Loss 0.1717 | Win/lose count 25.5/16.0 (9.5)\n",
            "Epoch 048/090 | Loss 0.0976 | Win/lose count 23.0/14.0 (9.0)\n",
            "Epoch 049/090 | Loss 0.0902 | Win/lose count 18.0/24.0 (-6.0)\n",
            "Epoch 050/090 | Loss 0.0510 | Win/lose count 26.0/10.5 (15.5)\n",
            "Epoch 051/090 | Loss 0.1070 | Win/lose count 26.5/18.5 (8.0)\n",
            "Epoch 052/090 | Loss 0.2729 | Win/lose count 24.0/21.5 (2.5)\n",
            "Epoch 053/090 | Loss 0.1065 | Win/lose count 22.5/16.0 (6.5)\n",
            "Epoch 054/090 | Loss 0.2764 | Win/lose count 18.0/26.0 (-8.0)\n",
            "Epoch 055/090 | Loss 0.0861 | Win/lose count 24.0/16.5 (7.5)\n",
            "Epoch 056/090 | Loss 0.1245 | Win/lose count 20.5/20.5 (0.0)\n",
            "Epoch 057/090 | Loss 0.1392 | Win/lose count 21.0/19.5 (1.5)\n",
            "Epoch 058/090 | Loss 0.1659 | Win/lose count 22.5/16.5 (6.0)\n",
            "Epoch 059/090 | Loss 0.1550 | Win/lose count 20.0/15.5 (4.5)\n",
            "Epoch 060/090 | Loss 0.1560 | Win/lose count 24.0/19.5 (4.5)\n",
            "Epoch 061/090 | Loss 0.3238 | Win/lose count 23.0/16.5 (6.5)\n",
            "Epoch 062/090 | Loss 0.1541 | Win/lose count 10.0/29.0 (-19.0)\n",
            "Epoch 063/090 | Loss 0.3200 | Win/lose count 13.5/31.5 (-18.0)\n",
            "Epoch 064/090 | Loss 0.2495 | Win/lose count 21.0/10.0 (11.0)\n",
            "Epoch 065/090 | Loss 0.2412 | Win/lose count 18.5/24.0 (-5.5)\n",
            "Epoch 066/090 | Loss 0.1034 | Win/lose count 19.5/19.5 (0.0)\n",
            "Epoch 067/090 | Loss 0.1250 | Win/lose count 23.0/19.5 (3.5)\n",
            "Epoch 068/090 | Loss 0.2630 | Win/lose count 19.0/26.5 (-7.5)\n",
            "Epoch 069/090 | Loss 0.0876 | Win/lose count 20.0/21.0 (-1.0)\n",
            "Epoch 070/090 | Loss 0.2673 | Win/lose count 22.0/14.5 (7.5)\n",
            "Epoch 071/090 | Loss 0.1624 | Win/lose count 26.5/18.0 (8.5)\n",
            "Epoch 072/090 | Loss 0.1099 | Win/lose count 22.5/12.5 (10.0)\n",
            "Epoch 073/090 | Loss 0.1392 | Win/lose count 21.5/18.0 (3.5)\n",
            "Epoch 074/090 | Loss 0.1455 | Win/lose count 25.5/16.5 (9.0)\n",
            "Epoch 075/090 | Loss 0.2616 | Win/lose count 19.5/20.0 (-0.5)\n",
            "Epoch 076/090 | Loss 0.1581 | Win/lose count 18.5/20.5 (-2.0)\n",
            "Epoch 077/090 | Loss 0.1413 | Win/lose count 23.5/17.5 (6.0)\n",
            "Epoch 078/090 | Loss 0.1363 | Win/lose count 18.5/23.0 (-4.5)\n",
            "Epoch 079/090 | Loss 0.1821 | Win/lose count 26.5/9.0 (17.5)\n",
            "Epoch 080/090 | Loss 0.0957 | Win/lose count 23.0/20.5 (2.5)\n",
            "Epoch 081/090 | Loss 0.1597 | Win/lose count 24.5/19.0 (5.5)\n",
            "Epoch 082/090 | Loss 0.0971 | Win/lose count 17.0/28.0 (-11.0)\n",
            "Epoch 083/090 | Loss 0.1177 | Win/lose count 24.0/14.5 (9.5)\n",
            "Epoch 084/090 | Loss 0.1655 | Win/lose count 16.5/25.0 (-8.5)\n",
            "Epoch 085/090 | Loss 0.1634 | Win/lose count 22.0/12.5 (9.5)\n",
            "Epoch 086/090 | Loss 0.1542 | Win/lose count 22.0/16.5 (5.5)\n",
            "Epoch 087/090 | Loss 0.1080 | Win/lose count 21.5/16.5 (5.0)\n",
            "Epoch 088/090 | Loss 0.1433 | Win/lose count 19.5/19.5 (0.0)\n",
            "Epoch 089/090 | Loss 0.1249 | Win/lose count 18.0/21.0 (-3.0)\n"
          ],
          "name": "stdout"
        },
        {
          "output_type": "execute_result",
          "data": {
            "text/html": [
              "<video alt=\"test\" controls>\n",
              "                <source src=\"data:video/mp4;base64,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\" type=\"video/mp4\" />\n",
              "             </video>"
            ],
            "text/plain": [
              "<IPython.core.display.HTML object>"
            ]
          },
          "metadata": {
            "tags": []
          },
          "execution_count": 74
        }
      ]
    },
    {
      "cell_type": "code",
      "metadata": {
        "id": "UZ6ZL8vADd06",
        "colab_type": "code",
        "outputId": "2f86d926-ea50-402b-f0ab-4db84956db93",
        "colab": {
          "base_uri": "https://localhost:8080/",
          "height": 1000
        }
      },
      "source": [
        "# Training DQN_FC\n",
        "env = Environment(grid_size=size, max_time=T, temperature=0.3)\n",
        "agent_fc = DQN_FC(size, lr=.1, epsilon = 0.7, memory_size=2000, batch_size = 32)\n",
        "train_explore(agent_fc, env, epoch=90, prefix='fc_train_explore')\n",
        "HTML(display_videos('fc_train_explore80.mp4'))\n"
      ],
      "execution_count": 75,
      "outputs": [
        {
          "output_type": "stream",
          "text": [
            "Epoch 000/090 | Loss 0.0472 | Win/lose count 7.0/16.0 (-9.0)\n",
            "Epoch 001/090 | Loss 0.0775 | Win/lose count 6.0/10.0 (-4.0)\n",
            "Epoch 002/090 | Loss 0.0457 | Win/lose count 6.5/8.0 (-1.5)\n",
            "Epoch 003/090 | Loss 0.0123 | Win/lose count 4.5/7.0 (-2.5)\n",
            "Epoch 004/090 | Loss 0.0132 | Win/lose count 6.5/8.0 (-1.5)\n",
            "Epoch 005/090 | Loss 0.0054 | Win/lose count 7.5/4.0 (3.5)\n",
            "Epoch 006/090 | Loss 0.0073 | Win/lose count 5.5/7.0 (-1.5)\n",
            "Epoch 007/090 | Loss 0.0119 | Win/lose count 5.0/2.0 (3.0)\n",
            "Epoch 008/090 | Loss 0.0249 | Win/lose count 3.5/1.0 (2.5)\n",
            "Epoch 009/090 | Loss 0.0166 | Win/lose count 3.0/2.0 (1.0)\n",
            "Epoch 010/090 | Loss 0.0130 | Win/lose count 8.0/2.0 (6.0)\n",
            "Epoch 011/090 | Loss 0.0059 | Win/lose count 11.5/4.0 (7.5)\n",
            "Epoch 012/090 | Loss 0.3660 | Win/lose count 9.0/3.0 (6.0)\n",
            "Epoch 013/090 | Loss 0.0100 | Win/lose count 2.0/2.0 (0.0)\n",
            "Epoch 014/090 | Loss 0.0167 | Win/lose count 10.0/4.0 (6.0)\n",
            "Epoch 015/090 | Loss 0.0120 | Win/lose count 2.0/4.0 (-2.0)\n",
            "Epoch 016/090 | Loss 0.3607 | Win/lose count 7.5/3.0 (4.5)\n",
            "Epoch 017/090 | Loss 0.0081 | Win/lose count 9.5/5.0 (4.5)\n",
            "Epoch 018/090 | Loss 0.4200 | Win/lose count 6.5/2.0 (4.5)\n",
            "Epoch 019/090 | Loss 0.0108 | Win/lose count 13.5/0 (13.5)\n",
            "Epoch 020/090 | Loss 0.0113 | Win/lose count 13.5/5.0 (8.5)\n",
            "Epoch 021/090 | Loss 0.0067 | Win/lose count 8.5/2.0 (6.5)\n",
            "Epoch 022/090 | Loss 0.0143 | Win/lose count 4.5/4.0 (0.5)\n",
            "Epoch 023/090 | Loss 0.0104 | Win/lose count 7.0/3.0 (4.0)\n",
            "Epoch 024/090 | Loss 0.0121 | Win/lose count 2.0/2.0 (0.0)\n",
            "Epoch 025/090 | Loss 0.0062 | Win/lose count 6.0/3.0 (3.0)\n",
            "Epoch 026/090 | Loss 0.0141 | Win/lose count 6.5/3.0 (3.5)\n",
            "Epoch 027/090 | Loss 0.0191 | Win/lose count 16.0/4.0 (12.0)\n",
            "Epoch 028/090 | Loss 0.0312 | Win/lose count 9.0/2.0 (7.0)\n",
            "Epoch 029/090 | Loss 0.0177 | Win/lose count 12.5/3.0 (9.5)\n",
            "Epoch 030/090 | Loss 0.0248 | Win/lose count 15.5/8.0 (7.5)\n",
            "Epoch 031/090 | Loss 0.4972 | Win/lose count 17.0/3.0 (14.0)\n",
            "Epoch 032/090 | Loss 0.0086 | Win/lose count 16.0/2.0 (14.0)\n",
            "Epoch 033/090 | Loss 0.0111 | Win/lose count 10.5/1.0 (9.5)\n",
            "Epoch 034/090 | Loss 0.0147 | Win/lose count 10.0/1.0 (9.0)\n",
            "Epoch 035/090 | Loss 0.0233 | Win/lose count 16.0/2.0 (14.0)\n",
            "Epoch 036/090 | Loss 0.0086 | Win/lose count 15.5/1.0 (14.5)\n",
            "Epoch 037/090 | Loss 0.0175 | Win/lose count 3.0/2.0 (1.0)\n",
            "Epoch 038/090 | Loss 0.0100 | Win/lose count 15.5/1.0 (14.5)\n",
            "Epoch 039/090 | Loss 0.3885 | Win/lose count 8.0/0 (8.0)\n",
            "Epoch 040/090 | Loss 0.0080 | Win/lose count 6.5/2.0 (4.5)\n",
            "Epoch 041/090 | Loss 0.0199 | Win/lose count 12.0/4.0 (8.0)\n",
            "Epoch 042/090 | Loss 0.0067 | Win/lose count 7.0/1.0 (6.0)\n",
            "Epoch 043/090 | Loss 0.0047 | Win/lose count 15.0/4.0 (11.0)\n",
            "Epoch 044/090 | Loss 0.0045 | Win/lose count 9.5/2.0 (7.5)\n",
            "Epoch 045/090 | Loss 0.0241 | Win/lose count 13.0/2.0 (11.0)\n",
            "Epoch 046/090 | Loss 0.0106 | Win/lose count 4.5/1.0 (3.5)\n",
            "Epoch 047/090 | Loss 0.0158 | Win/lose count 13.5/3.0 (10.5)\n",
            "Epoch 048/090 | Loss 0.4995 | Win/lose count 6.5/3.0 (3.5)\n",
            "Epoch 049/090 | Loss 0.0060 | Win/lose count 8.5/2.0 (6.5)\n",
            "Epoch 050/090 | Loss 0.0129 | Win/lose count 14.5/5.0 (9.5)\n",
            "Epoch 051/090 | Loss 0.0147 | Win/lose count 14.0/4.0 (10.0)\n",
            "Epoch 052/090 | Loss 0.0057 | Win/lose count 18.0/4.0 (14.0)\n",
            "Epoch 053/090 | Loss 0.3320 | Win/lose count 6.0/3.0 (3.0)\n",
            "Epoch 054/090 | Loss 0.0116 | Win/lose count 20.5/1.0 (19.5)\n",
            "Epoch 055/090 | Loss 0.0086 | Win/lose count 10.5/1.0 (9.5)\n",
            "Epoch 056/090 | Loss 0.0152 | Win/lose count 14.0/3.0 (11.0)\n",
            "Epoch 057/090 | Loss 0.0098 | Win/lose count 11.0/0 (11.0)\n",
            "Epoch 058/090 | Loss 0.0154 | Win/lose count 13.5/4.0 (9.5)\n",
            "Epoch 059/090 | Loss 0.0121 | Win/lose count 4.5/2.0 (2.5)\n",
            "Epoch 060/090 | Loss 0.0106 | Win/lose count 17.5/1.0 (16.5)\n",
            "Epoch 061/090 | Loss 0.4232 | Win/lose count 14.5/2.0 (12.5)\n",
            "Epoch 062/090 | Loss 0.0113 | Win/lose count 15.5/1.0 (14.5)\n",
            "Epoch 063/090 | Loss 0.0166 | Win/lose count 12.0/2.0 (10.0)\n",
            "Epoch 064/090 | Loss 0.0136 | Win/lose count 9.5/2.0 (7.5)\n",
            "Epoch 065/090 | Loss 0.4324 | Win/lose count 6.0/1.0 (5.0)\n",
            "Epoch 066/090 | Loss 0.0210 | Win/lose count 13.0/7.0 (6.0)\n",
            "Epoch 067/090 | Loss 0.0066 | Win/lose count 14.0/4.0 (10.0)\n",
            "Epoch 068/090 | Loss 0.0102 | Win/lose count 15.0/6.0 (9.0)\n",
            "Epoch 069/090 | Loss 0.3252 | Win/lose count 22.0/7.0 (15.0)\n",
            "Epoch 070/090 | Loss 0.0162 | Win/lose count 3.0/0 (3.0)\n",
            "Epoch 071/090 | Loss 0.0126 | Win/lose count 11.5/2.0 (9.5)\n",
            "Epoch 072/090 | Loss 0.0148 | Win/lose count 12.5/8.0 (4.5)\n",
            "Epoch 073/090 | Loss 0.0092 | Win/lose count 14.0/3.0 (11.0)\n",
            "Epoch 074/090 | Loss 0.0139 | Win/lose count 19.5/2.0 (17.5)\n",
            "Epoch 075/090 | Loss 0.0247 | Win/lose count 8.5/2.0 (6.5)\n",
            "Epoch 076/090 | Loss 0.0071 | Win/lose count 5.0/2.0 (3.0)\n",
            "Epoch 077/090 | Loss 0.0162 | Win/lose count 6.0/1.0 (5.0)\n",
            "Epoch 078/090 | Loss 0.0259 | Win/lose count 5.0/2.0 (3.0)\n",
            "Epoch 079/090 | Loss 0.0079 | Win/lose count 3.0/2.0 (1.0)\n",
            "Epoch 080/090 | Loss 0.0093 | Win/lose count 4.0/5.0 (-1.0)\n",
            "Epoch 081/090 | Loss 0.0169 | Win/lose count 11.0/2.0 (9.0)\n",
            "Epoch 082/090 | Loss 0.0196 | Win/lose count 11.5/3.0 (8.5)\n",
            "Epoch 083/090 | Loss 0.0154 | Win/lose count 11.5/2.0 (9.5)\n",
            "Epoch 084/090 | Loss 0.4392 | Win/lose count 15.5/3.0 (12.5)\n",
            "Epoch 085/090 | Loss 0.0158 | Win/lose count 2.5/0 (2.5)\n",
            "Epoch 086/090 | Loss 0.0129 | Win/lose count 10.0/3.0 (7.0)\n",
            "Epoch 087/090 | Loss 0.0162 | Win/lose count 8.0/3.0 (5.0)\n",
            "Epoch 088/090 | Loss 0.0146 | Win/lose count 5.0/0 (5.0)\n",
            "Epoch 089/090 | Loss 0.0260 | Win/lose count 11.5/0 (11.5)\n"
          ],
          "name": "stdout"
        },
        {
          "output_type": "execute_result",
          "data": {
            "text/html": [
              "<video alt=\"test\" controls>\n",
              "                <source src=\"data:video/mp4;base64,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\" type=\"video/mp4\" />\n",
              "             </video>"
            ],
            "text/plain": [
              "<IPython.core.display.HTML object>"
            ]
          },
          "metadata": {
            "tags": []
          },
          "execution_count": 75
        }
      ]
    },
    {
      "cell_type": "code",
      "metadata": {
        "id": "BveqjMndEbFK",
        "colab_type": "code",
        "outputId": "fdc99d7c-3f5a-402b-fa5f-4f18946aa2a3",
        "colab": {
          "base_uri": "https://localhost:8080/",
          "height": 494
        }
      },
      "source": [
        "# Evaluation DQN_FC\n",
        "test(agent_fc,env,epochs_test,prefix='fc_test_explore')\n",
        "HTML(display_videos('fc_test_explore10.mp4'))"
      ],
      "execution_count": 77,
      "outputs": [
        {
          "output_type": "stream",
          "text": [
            "Win/lose count 1.0/0. Average score (1.0)\n",
            "Win/lose count 0/0. Average score (0.5)\n",
            "Win/lose count 3.5/1.0. Average score (1.1666666666666667)\n",
            "Win/lose count 7.5/0. Average score (2.75)\n",
            "Win/lose count 7.0/0. Average score (3.6)\n",
            "Win/lose count 2.0/0. Average score (3.3333333333333335)\n",
            "Win/lose count 8.0/0. Average score (4.0)\n",
            "Win/lose count 6.0/0. Average score (4.25)\n",
            "Win/lose count 5.5/0. Average score (4.388888888888889)\n",
            "Win/lose count 0.5/0. Average score (4.0)\n",
            "Win/lose count 2.0/0. Average score (3.8181818181818183)\n",
            "Final score: 3.8181818181818183\n"
          ],
          "name": "stdout"
        },
        {
          "output_type": "execute_result",
          "data": {
            "text/html": [
              "<video alt=\"test\" controls>\n",
              "                <source src=\"data:video/mp4;base64,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\" type=\"video/mp4\" />\n",
              "             </video>"
            ],
            "text/plain": [
              "<IPython.core.display.HTML object>"
            ]
          },
          "metadata": {
            "tags": []
          },
          "execution_count": 77
        }
      ]
    },
    {
      "cell_type": "markdown",
      "metadata": {
        "id": "CBTRc4N3sn0a",
        "colab_type": "text"
      },
      "source": [
        "***\n",
        "***\n",
        "__BONUS question__ Use the expert DQN from the previous question to generate some winning games. Train a model that mimicks its behavior. Compare the performances."
      ]
    },
    {
      "cell_type": "markdown",
      "metadata": {
        "id": "P1NoW8EWsn0c",
        "colab_type": "text"
      },
      "source": [
        ""
      ]
    },
    {
      "cell_type": "markdown",
      "metadata": {
        "id": "sNXU23Ixsn0d",
        "colab_type": "text"
      },
      "source": [
        "***"
      ]
    }
  ]
}