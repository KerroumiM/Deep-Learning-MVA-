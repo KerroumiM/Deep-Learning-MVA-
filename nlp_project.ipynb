{
 "cells": [
  {
   "cell_type": "markdown",
   "metadata": {},
   "source": [
    "# Deep Learning for NLP - Project"
   ]
  },
  {
   "cell_type": "markdown",
   "metadata": {},
   "source": [
    "RULES:\n",
    "\n",
    "* Do not create any additional cell\n",
    "\n",
    "* Fill in the blanks\n",
    "\n",
    "* All cells should be runnable (modulo trivial compatibility bugs that we'd fix)\n",
    "\n",
    "* 4 / 20 points will be allocated to the clarity of your code\n",
    "\n",
    "* Efficient code will have a bonus\n",
    "\n",
    "DELIVERABLE:\n",
    "\n",
    "* the pdf with your answers\n",
    "* this notebook\n",
    "* the predictions of the SST test set\n",
    "\n",
    "DO NOT INCLUDE THE DATASETS IN THE DELIVERABLE..\n",
    "\n",
    "Student : Mohamed KERROUMI<br>\n",
    "Contact : mohamed.kerroumi@student.ecp.fr<br>"
   ]
  },
  {
   "cell_type": "code",
   "execution_count": 100,
   "metadata": {
    "jupyter": {
     "outputs_hidden": false
    }
   },
   "outputs": [],
   "source": [
    "# Python 3.6 or above is required\n",
    "from collections import defaultdict\n",
    "import gzip\n",
    "import numpy as np\n",
    "from pathlib import Path\n",
    "from  urllib.request import urlretrieve\n",
    "from itertools import chain\n",
    "import os\n",
    "import matplotlib.pyplot as plt"
   ]
  },
  {
   "cell_type": "code",
   "execution_count": 101,
   "metadata": {},
   "outputs": [],
   "source": [
    "PATH_TO_DATA = Path('data/')\n",
    "# Download word vectors, might take a few minutes and about ~3GB of storage space\n",
    "en_embeddings_path = PATH_TO_DATA / 'cc.en.300.vec.gz'\n",
    "if not en_embeddings_path.exists():\n",
    "    urlretrieve('https://dl.fbaipublicfiles.com/fasttext/vectors-crawl/cc.en.300.vec.gz', en_embeddings_path)\n",
    "fr_embeddings_path = PATH_TO_DATA / 'cc.fr.300.vec.gz'\n",
    "if not fr_embeddings_path.exists():\n",
    "    urlretrieve('https://dl.fbaipublicfiles.com/fasttext/vectors-crawl/cc.fr.300.vec.gz', fr_embeddings_path)"
   ]
  },
  {
   "cell_type": "markdown",
   "metadata": {},
   "source": [
    "# 1) Monolingual (English) word embeddings "
   ]
  },
  {
   "cell_type": "code",
   "execution_count": 102,
   "metadata": {},
   "outputs": [],
   "source": [
    "class Word2Vec():\n",
    "\n",
    "    def __init__(self, filepath, vocab_size=50000):\n",
    "        self.words, self.embeddings = self.load_wordvec(filepath, vocab_size)\n",
    "        # Mappings for O(1) retrieval:\n",
    "        self.word2id = {word: idx for idx, word in enumerate(self.words)}\n",
    "        self.id2word = {idx: word for idx, word in enumerate(self.words)}\n",
    "        self.filepath = filepath\n",
    "        self.vocab_size = vocab_size\n",
    "    def load_wordvec(self, filepath, vocab_size):\n",
    "        assert str(filepath).endswith('.gz')\n",
    "        words = []\n",
    "        embeddings = []\n",
    "        with gzip.open(filepath, 'rt',encoding='utf-8') as f:  # Read compressed file directly\n",
    "            next(f)  # Skip header\n",
    "            for i, line in enumerate(f):\n",
    "                word, vec = line.split(' ', 1)\n",
    "                words.append(word)\n",
    "                embeddings.append(np.fromstring(vec, sep=' '))\n",
    "                if i == (vocab_size - 1):\n",
    "                    break\n",
    "        print('Loaded %s pretrained word vectors' % (len(words)))\n",
    "        return words, np.vstack(embeddings)\n",
    "    \n",
    "    def encode(self, word):\n",
    "        # Returns the 1D embedding of a given word\n",
    "        idx= self.words.index(word)\n",
    "        return(self.embeddings[idx])\n",
    "        \n",
    "    \n",
    "    def score(self, word1, word2):\n",
    "        # Return the cosine similarity: use np.dot & np.linalg.norm\n",
    "        em1 , em2 = self.encode(word1), self.encode(word2)\n",
    "        return(np.dot(em1, em2/(np.linalg.norm(em1) * np.linalg.norm(em2))))\n",
    "\n",
    "    \n",
    "    def most_similar(self, word, k=5):\n",
    "        # Returns the k most similar words: self.score & np.argsort\n",
    "        dist = [self.score(word, word_) for word_ in self.words]\n",
    "        indexs = np.argsort(dist)[::-1][1:k+1]\n",
    "        return([self.words[idx] for idx in indexs])\n"
   ]
  },
  {
   "cell_type": "code",
   "execution_count": 103,
   "metadata": {
    "jupyter": {
     "outputs_hidden": false
    }
   },
   "outputs": [
    {
     "name": "stdout",
     "output_type": "stream",
     "text": [
      "Loaded 50000 pretrained word vectors\n",
      "cat tree 0.26449754661654756\n",
      "cat dog 0.7078641298542563\n",
      "cat pet 0.6753313359976382\n",
      "Paris France 0.6892958925806543\n",
      "Paris Germany 0.40512422867375497\n",
      "Paris baguette 0.2939995827780222\n",
      "Paris donut -0.006588507552347998\n",
      "['cats', 'kitty', 'kitten', 'feline', 'dog']\n",
      "['dogs', 'puppy', 'pup', 'canine', 'pet']\n",
      "['dog', 'cats', 'puppies', 'Dogs', 'pets']\n",
      "['France', 'Parisian', 'Marseille', 'Brussels', 'Strasbourg']\n",
      "['Austria', 'Europe', 'Berlin', 'Hamburg', 'Bavaria']\n"
     ]
    }
   ],
   "source": [
    "word2vec = Word2Vec(en_embeddings_path, vocab_size=50000)\n",
    "\n",
    "# You will be evaluated on the output of the following:\n",
    "for word1, word2 in zip(('cat', 'cat', 'cat', 'Paris', 'Paris', 'Paris', 'Paris'), ('tree', 'dog', 'pet', 'France', 'Germany', 'baguette', 'donut')):\n",
    "    print(word1, word2, word2vec.score(word1, word2))\n",
    "for word in ['cat', 'dog', 'dogs', 'Paris', 'Germany']:\n",
    "    print(word2vec.most_similar(word))"
   ]
  },
  {
   "cell_type": "code",
   "execution_count": 104,
   "metadata": {
    "jupyter": {
     "outputs_hidden": false
    }
   },
   "outputs": [],
   "source": [
    "class BagOfWords():\n",
    "    \n",
    "    def __init__(self, word2vec):\n",
    "        self.word2vec = word2vec\n",
    "    \n",
    "    def build_idf(self, sentences):\n",
    "        # build the idf dictionary: associate each word to its idf value\n",
    "        # -> idf = {word: idf_value, ...}\n",
    "        sentences_= [sentence.split(' ') for sentence in sentences]\n",
    "        for i in range(len(sentences_)):\n",
    "            sentences_[i] = [w for w in sentences_[i] if w in self.word2vec.words]\n",
    "        Word_list = set(list(chain.from_iterable(sentences_)))\n",
    "        idfDict = dict.fromkeys(Word_list, 0)\n",
    "        for word in Word_list:\n",
    "            for i in range(len(sentences_)):\n",
    "                if word in sentences_[i]:\n",
    "                    idfDict[word] += 1\n",
    "            idfDict[word] = np.log(len(sentences_)/idfDict[word])\n",
    "        return(idfDict)\n",
    "\n",
    "    \n",
    "    def encode(self, sentence, idf=None):\n",
    "        # Takes a sentence as input, returns the sentence embedding\n",
    "        sentence_ = [w for w in sentence.split(' ') if w in self.word2vec.words]\n",
    "        embedding = np.array([word2vec.encode(word) for word in sentence_])\n",
    "        if idf is None:\n",
    "            # mean of word vectors\n",
    "            \n",
    "            return(np.mean(embedding, axis=0))\n",
    "            \n",
    "\n",
    "        else:\n",
    "            # idf-weighted mean of word vectors\n",
    "            idf_sentence = np.expand_dims(np.array([idf[w] for w in sentence_]),axis=1)\n",
    "            return(np.mean(idf_sentence*embedding, axis=0))\n",
    "\n",
    "\n",
    "    def score(self, sentence1, sentence2, idf=None):\n",
    "        # cosine similarity: use np.dot & np.linalg.norm \n",
    "        em1= self.encode(sentence1, idf)\n",
    "        em2= self.encode(sentence2, idf)\n",
    "        return(np.dot(em1, em2/(np.linalg.norm(em1) * np.linalg.norm(em2))))\n",
    "\n",
    "    \n",
    "    def most_similar(self, sentence, sentences, idf=None, k=5):\n",
    "        dist = [self.score(sentence, sentence_, idf) for sentence_ in sentences]\n",
    "        indexs = np.argsort(dist)[::-1][1:k+1]\n",
    "        return([sentences[idx] for idx in indexs])\n"
   ]
  },
  {
   "cell_type": "code",
   "execution_count": 105,
   "metadata": {
    "jupyter": {
     "outputs_hidden": false
    }
   },
   "outputs": [
    {
     "name": "stdout",
     "output_type": "stream",
     "text": [
      "Loaded 50000 pretrained word vectors\n",
      "\n",
      "\tAverage of word embeddings\n",
      "1 man singing and 1 man playing a saxophone in a concert . \n",
      "10 people venture out to go crosscountry skiing . \n",
      "0.7065220648251475\n",
      "1 smiling african american boy . \n",
      "1) 2 woman dancing while pointing . \n",
      "2) 5 women and 1 man are smiling for the camera . \n",
      "3) a small boy following 4 geese . \n",
      "4) 2 female babies eating chips . \n",
      "5) a young boy and 2 girls open christmas presents . \n",
      "\n",
      "\tidf weighted average of word embeddings\n",
      "1 man singing and 1 man playing a saxophone in a concert . \n",
      "10 people venture out to go crosscountry skiing . \n",
      "0.6400799939346385\n",
      "a young boy and 2 girls open christmas presents . \n",
      "1) 3 girls and one boy playing in the street . \n",
      "2) a group of friends , 3 boys and 2 girls , jump in the air holding hands for a photo . \n",
      "3) five children , 3 boys and 2 girls playing soccer in a grass field . \n",
      "4) 2 young indian girls dressed in colorful dresses walking . \n",
      "5) 2 kids holding hands and smiling . \n"
     ]
    }
   ],
   "source": [
    "word2vec = Word2Vec(en_embeddings_path, vocab_size=50000)\n",
    "sentence2vec = BagOfWords(word2vec)\n",
    "\n",
    "# Load sentences in \"PATH_TO_DATA/sentences.txt\"\n",
    "filepath = PATH_TO_DATA / 'sentences.txt'\n",
    "with open(filepath, 'r') as f:\n",
    "    sentences = [line.strip('\\n') for line in f]\n",
    "\n",
    "\n",
    "# You will be evaluated on the output of the following:\n",
    "print('\\n\\tAverage of word embeddings')\n",
    "sentence1 = sentences[7]\n",
    "sentence2 = sentences[13]\n",
    "print(sentence1)\n",
    "print(sentence2)\n",
    "print(sentence2vec.score(sentence1, sentence2))\n",
    "sentence = sentences[10]\n",
    "similar_sentences = sentence2vec.most_similar(sentence, sentences)  # BagOfWords-mean\n",
    "print(sentence)\n",
    "for i, sentence in enumerate(similar_sentences):\n",
    "    print(str(i+1) + ')', sentence)\n",
    "\n",
    "# Build idf scores for each word\n",
    "idf = sentence2vec.build_idf(sentences)\n",
    "\n",
    "print('\\n\\tidf weighted average of word embeddings')\n",
    "print(sentence1)\n",
    "print(sentence2)\n",
    "print(sentence2vec.score(sentence1, sentence2, idf))\n",
    "similar_sentences = sentence2vec.most_similar(sentence, sentences, idf)  # BagOfWords-idf\n",
    "print(sentence)\n",
    "for i, sentence in enumerate(similar_sentences):\n",
    "    print(str(i+1) + ')', sentence)"
   ]
  },
  {
   "cell_type": "code",
   "execution_count": 106,
   "metadata": {},
   "outputs": [],
   "source": [
    "# Build idf scores for each word\n",
    "idf = sentence2vec.build_idf(sentences)"
   ]
  },
  {
   "cell_type": "markdown",
   "metadata": {},
   "source": [
    "# 2) Multilingual (English-French) word embeddings"
   ]
  },
  {
   "cell_type": "markdown",
   "metadata": {},
   "source": [
    "Let's consider a bilingual dictionary of size V_a (e.g French-English).\n",
    "\n",
    "Let's define **X** and **Y** the **French** and **English** matrices.\n",
    "\n",
    "They contain the embeddings associated to the words in the bilingual dictionary.\n",
    "\n",
    "We want to find a **mapping W** that will project the source word space (e.g French) to the target word space (e.g English).\n",
    "\n",
    "Procrustes : **W\\* = argmin || W.X - Y ||  s.t  W^T.W = Id**\n",
    "has a closed form solution:\n",
    "**W = U.V^T  where  U.Sig.V^T = SVD(Y.X^T)**\n",
    "\n",
    "In what follows, you are asked to: "
   ]
  },
  {
   "cell_type": "code",
   "execution_count": 107,
   "metadata": {},
   "outputs": [],
   "source": [
    "class MultilingualWordAligner:\n",
    "    \n",
    "    def __init__(self, fr_word2vec, en_word2vec):\n",
    "        self.fr_word2vec = fr_word2vec\n",
    "        self.en_word2vec = en_word2vec\n",
    "        self.aligned_fr_embeddings = self.get_aligned_fr_embeddings()\n",
    "        \n",
    "    def get_aligned_fr_embeddings(self):\n",
    "        # 1 - Get words that appear in both vocabs (= identical character strings)\n",
    "        #     Use it to create the matrix X (emb_dim, vocab_size) and Y (emb_dim, vocab_size) (of embeddings for these words)\n",
    "        commun_words = [w for w in self.fr_word2vec.words if w in self.en_word2vec.words ]\n",
    "        X = np.array([self.fr_word2vec.embeddings[self.fr_word2vec.word2id[w]] for w in commun_words]).T\n",
    "        Y = np.array([self.en_word2vec.embeddings[self.en_word2vec.word2id[w]] for w in commun_words]).T\n",
    "        assert X.shape[0] == 300 and Y.shape[0] == 300\n",
    "        \n",
    "        # 2 - Solve the Procrustes using the numpy package and: np.linalg.svd() and get the optimal W\n",
    "        #     Now self.fr_word2vec.embeddings * W.transpose() is in the same space as en_word2vec.embeddings\n",
    "        U, Sigma, V_ = np.linalg.svd(np.dot(Y, X.T))\n",
    "        W = np.dot(U, V_)\n",
    "        assert W.shape == (300, 300)\n",
    "        return np.matmul(fr_word2vec.embeddings, W.transpose())\n",
    "\n",
    "        \n",
    "    def get_closest_english_words(self, fr_word, k=3):\n",
    "        # 3 - Return the top k English nearest neighbors to the input French word\n",
    "        em = self.get_aligned_fr_embeddings()[self.fr_word2vec.word2id[fr_word]]\n",
    "        dist = [np.dot(em, em_/(np.linalg.norm(em) * np.linalg.norm(em_))) for em_ in self.en_word2vec.embeddings]\n",
    "        indexs = np.argsort(dist)[::-1][:k]\n",
    "        return([self.en_word2vec.words[idx] for idx in indexs])\n"
   ]
  },
  {
   "cell_type": "code",
   "execution_count": 108,
   "metadata": {},
   "outputs": [
    {
     "name": "stdout",
     "output_type": "stream",
     "text": [
      "Loaded 50000 pretrained word vectors\n",
      "Loaded 50000 pretrained word vectors\n",
      "----------\n",
      "fr: \"chat\"\n",
      "en: \"cat\"\n",
      "en: \"kitten\"\n",
      "en: \"kitty\"\n",
      "----------\n",
      "fr: \"chien\"\n",
      "en: \"dog\"\n",
      "en: \"cat\"\n",
      "en: \"pet\"\n",
      "----------\n",
      "fr: \"voiture\"\n",
      "en: \"car\"\n",
      "en: \"vehicle\"\n",
      "en: \"automobile\"\n",
      "----------\n",
      "fr: \"zut\"\n",
      "en: \"oops\"\n",
      "en: \"Ah\"\n",
      "en: \"ah\"\n"
     ]
    }
   ],
   "source": [
    "fr_word2vec = Word2Vec(fr_embeddings_path, vocab_size=50000)\n",
    "en_word2vec = Word2Vec(en_embeddings_path, vocab_size=50000)\n",
    "multilingual_word_aligner = MultilingualWordAligner(fr_word2vec, en_word2vec)\n",
    "\n",
    "# You will be evaluated on the output of the following:\n",
    "fr_words = ['chat', 'chien', 'voiture', 'zut']\n",
    "k = 3\n",
    "for fr_word in fr_words:\n",
    "    print('-' * 10)\n",
    "    print(f'fr: \"{fr_word}\"')\n",
    "    en_words = multilingual_word_aligner.get_closest_english_words(fr_word, k=3)\n",
    "    for en_word in en_words:\n",
    "        print(f'en: \"{en_word}\"')"
   ]
  },
  {
   "cell_type": "markdown",
   "metadata": {},
   "source": [
    "If you want to dive deeper on this subject: https://github.com/facebookresearch/MUSE"
   ]
  },
  {
   "cell_type": "markdown",
   "metadata": {},
   "source": [
    "# 3) Sentence classification with BoV and scikit-learn"
   ]
  },
  {
   "cell_type": "code",
   "execution_count": 109,
   "metadata": {},
   "outputs": [],
   "source": [
    "# 1 - Load train/dev/test of Stanford Sentiment TreeBank (SST)\n",
    "#     (https://nlp.stanford.edu/~socherr/EMNLP2013_RNTN.pdf)\n",
    "train_filepath = PATH_TO_DATA / 'SST/stsa.fine.train'\n",
    "dev_filepath = PATH_TO_DATA / 'SST/stsa.fine.dev'\n",
    "test_filepath = PATH_TO_DATA / 'SST/stsa.fine.test.X'\n",
    "\n",
    "def load_data(filepath, label = True):\n",
    "    X=[]\n",
    "    Y= []\n",
    "    with open(filepath, 'r') as f:\n",
    "        if label:\n",
    "            for s in f.readlines():\n",
    "                c, sentence = s.split(' ', 1)\n",
    "                X.append(sentence)\n",
    "                Y.append(int(c))\n",
    "            return(X,Y)\n",
    "        else:\n",
    "            for s in f.readlines():\n",
    "                X.append(s)\n",
    "            return(X)\n",
    "x_train , y_train= load_data(train_filepath)\n",
    "x_dev, y_dev = load_data(dev_filepath)\n",
    "x_test = load_data(test_filepath, label=False)\n",
    "        \n",
    "# TYPE CODE HERE"
   ]
  },
  {
   "cell_type": "code",
   "execution_count": 110,
   "metadata": {},
   "outputs": [
    {
     "name": "stdout",
     "output_type": "stream",
     "text": [
      "Loaded 50000 pretrained word vectors\n"
     ]
    },
    {
     "name": "stderr",
     "output_type": "stream",
     "text": [
      "C:\\Users\\admin\\Anaconda3\\lib\\site-packages\\numpy\\core\\fromnumeric.py:3118: RuntimeWarning: Mean of empty slice.\n",
      "  out=out, **kwargs)\n",
      "C:\\Users\\admin\\Anaconda3\\lib\\site-packages\\numpy\\core\\_methods.py:85: RuntimeWarning: invalid value encountered in double_scalars\n",
      "  ret = ret.dtype.type(ret / rcount)\n"
     ]
    }
   ],
   "source": [
    "# 2 - Encode sentences with the BoV model above\n",
    "word2vec = Word2Vec(en_embeddings_path, vocab_size=50000)\n",
    "sentence2vec = BagOfWords(word2vec)\n",
    "# Build idf scores for each word\n",
    "idf = sentence2vec.build_idf(x_train+x_dev+x_test)\n",
    "#Encode each sentences\n",
    "def encode_s(x ,s2v, idf=None):\n",
    "    x_em = s2v.encode(x[0],idf)\n",
    "    for i in range(1, len(x)):\n",
    "        if not np.isscalar(s2v.encode(x[i], idf)) :\n",
    "            if len(s2v.encode(x[i], idf))!=0:\n",
    "                x_em = np.vstack((x_em, s2v.encode(x[i], idf)))\n",
    "            else:\n",
    "                x_em = np.vstack((x_em, np.zeros(300))) \n",
    "        else:\n",
    "            x_em = np.vstack((x_em, np.zeros(300))) \n",
    "    return(x_em)\n",
    "\n",
    "x_train_em = encode_s(x_train, sentence2vec)\n",
    "x_train_em_ = encode_s(x_train, sentence2vec, idf)\n",
    "x_dev_em = encode_s(x_dev, sentence2vec)\n",
    "x_dev_em_ = encode_s(x_dev, sentence2vec, idf)\n",
    "x_test_em = encode_s(x_test, sentence2vec)\n",
    "x_test_em_ = encode_s(x_test, sentence2vec, idf)\n",
    "\n",
    "# TYPE CODE HERE"
   ]
  },
  {
   "cell_type": "code",
   "execution_count": 111,
   "metadata": {
    "scrolled": true
   },
   "outputs": [
    {
     "name": "stdout",
     "output_type": "stream",
     "text": [
      "for c = 0.1 train accuracy: 0.37066947565543074 dev accuracy: 0.35967302452316074\n",
      "for c = 0.5 train accuracy: 0.4133895131086142 dev accuracy: 0.3814713896457766\n",
      "for c = 0.8 train accuracy: 0.42544475655430714 dev accuracy: 0.38056312443233425\n",
      "for c = 1 train accuracy: 0.4305945692883895 dev accuracy: 0.38419618528610355\n",
      "final model\n",
      "*********Without idf**************\n",
      " \t accuracy training set 0.4305945692883895\n",
      "\t accuracy dev set 0.38419618528610355\n",
      "*********With idf**************\n",
      " \t accuracy training set 0.47015449438202245\n",
      "\t accuracy dev set 0.39872842870118075\n"
     ]
    }
   ],
   "source": [
    "# 3 - Learn Logistic Regression on top of sentence embeddings using scikit-learn\n",
    "#     (consider tuning the L2 regularization on the dev set)\n",
    "#     In the paper, the accuracy for average of word vectors is 32.7%\n",
    "#     (VecAvg, table 1, https://nlp.stanford.edu/~socherr/EMNLP2013_RNTN.pdf)\n",
    "from sklearn.linear_model import LogisticRegression\n",
    "from sklearn.metrics import accuracy_score, f1_score\n",
    "y_train = np.array(y_train)\n",
    "y_dev = np.array(y_dev)\n",
    "C= [0.1,0.5,0.8, 1]\n",
    "acc = list()\n",
    "for c in C:\n",
    "    LogReg = LogisticRegression(C=c, max_iter=2000, tol= 1e-10, solver='lbfgs', multi_class='auto')\n",
    "    clf = LogReg.fit(x_train_em, y_train)\n",
    "    y_train_predict = clf.predict(x_train_em)\n",
    "    y_dev_predict = clf.predict(x_dev_em)\n",
    "    acc.append(accuracy_score(y_dev, y_dev_predict))\n",
    "    print('for c =' , c , 'train accuracy:', accuracy_score(y_train, y_train_predict ),'dev accuracy:', accuracy_score(y_dev, y_dev_predict ) )\n",
    "id = np.argmax(acc)\n",
    "print('final model')\n",
    "LogReg = LogisticRegression(C=C[id], max_iter=2000, tol= 1e-10 , solver='lbfgs', multi_class='auto')\n",
    "clf = LogReg.fit(x_train_em, y_train)\n",
    "y_train_predict = clf.predict(x_train_em)\n",
    "y_dev_predict = clf.predict(x_dev_em)\n",
    "print(\"*********Without idf**************\")\n",
    "print(\" \\t accuracy training set\", accuracy_score( y_train,y_train_predict))\n",
    "print(\"\\t accuracy dev set\", accuracy_score( y_dev,y_dev_predict))\n",
    "\n",
    "LogReg = LogisticRegression(C=C[id], max_iter=2000, tol= 1e-10, solver='lbfgs', multi_class='auto')\n",
    "clf = LogReg.fit(x_train_em_, y_train)\n",
    "y_train_predict = clf.predict(x_train_em_)\n",
    "y_dev_predict = clf.predict(x_dev_em_)\n",
    "print(\"*********With idf**************\")\n",
    "print(\" \\t accuracy training set\", accuracy_score( y_train,y_train_predict))\n",
    "print(\"\\t accuracy dev set\", accuracy_score( y_dev,y_dev_predict))\n",
    "# TYPE CODE HERE"
   ]
  },
  {
   "cell_type": "code",
   "execution_count": 112,
   "metadata": {},
   "outputs": [],
   "source": [
    "# 4 - Produce 2210 predictions for the test set (in the same order). One line = one prediction (=0,1,2,3,4).\n",
    "#     Attach the output file \"logreg_bov_y_test_sst.txt\" to your deliverable.\n",
    "#     You will be evaluated on the results of the test set.\n",
    "prediction = clf.predict(x_test_em_)\n",
    "#print(prediction)\n",
    "file = open(\"logreg_bov_y_test_sst.txt\", 'w+')\n",
    "for i in prediction : \n",
    "    file.write(str(i)+'\\n')\n",
    "file.close()\n"
   ]
  },
  {
   "cell_type": "code",
   "execution_count": 113,
   "metadata": {},
   "outputs": [],
   "source": [
    "# BONUS!\n",
    "# 5 - Try to improve performance with another classifier\n",
    "#     Attach the output file \"XXX_bov_y_test_sst.txt\" to your deliverable (where XXX = the name of the classifier)\n",
    "\n",
    "# TYPE CODE HERE"
   ]
  },
  {
   "cell_type": "markdown",
   "metadata": {},
   "source": [
    "# 4) Sentence classification with LSTMs in Keras"
   ]
  },
  {
   "cell_type": "markdown",
   "metadata": {},
   "source": [
    "## 4.1 - Preprocessing"
   ]
  },
  {
   "cell_type": "code",
   "execution_count": 114,
   "metadata": {
    "jupyter": {
     "outputs_hidden": false
    }
   },
   "outputs": [],
   "source": [
    "import tensorflow as tf"
   ]
  },
  {
   "cell_type": "code",
   "execution_count": 115,
   "metadata": {},
   "outputs": [],
   "source": [
    "# 1 - Using the same dataset, transform text to integers using tf.keras.preprocessing.text.one_hot function\n",
    "#     https://keras.io/preprocessing/text/\n",
    "\n",
    "# TYPE CODE HERE\n",
    "x_tot= x_train + x_dev + x_test\n",
    "sentences_= [sentence.split(' ') for sentence in x_tot]\n",
    "for i in range(len(sentences_)):\n",
    "    sentences_[i] = [w for w in sentences_[i]]\n",
    "Word_list = set(list(chain.from_iterable(sentences_)))\n",
    "nb= len(Word_list)\n",
    "def encoding(x,nb):\n",
    "    embedding= [tf.keras.preprocessing.text.one_hot(sentence,nb,filters='!\"#$%&()*+,-./:;<=>?@[\\\\]^_`{|}~\\t\\n',lower=True,split=' ') for sentence in x]  \n",
    "    return(embedding)\n",
    "x_train_en = encoding(x_train, nb)\n",
    "x_dev_en = encoding(x_dev, nb)\n",
    "x_test_en = encoding(x_test, nb)"
   ]
  },
  {
   "cell_type": "markdown",
   "metadata": {},
   "source": [
    "**Padding input data**\n",
    "\n",
    "Models in Keras (and elsewhere) take batches of sentences of the same length as input. It is because Deep Learning framework have been designed to handle well Tensors, which are particularly suited for fast computation on the GPU.\n",
    "\n",
    "Since sentences have different sizes, we \"pad\" them. That is, we add dummy \"padding\" tokens so that they all have the same length.\n",
    "\n",
    "The input to a Keras model thus has this size : (batchsize, maxseqlen) where maxseqlen is the maximum length of a sentence in the batch."
   ]
  },
  {
   "cell_type": "code",
   "execution_count": 116,
   "metadata": {},
   "outputs": [],
   "source": [
    "# 2 - Pad your sequences using tf.keras.preprocessing.sequence.pad_sequences\n",
    "#     https://keras.io/preprocessing/sequence/\n",
    "x_train_en = tf.keras.preprocessing.sequence.pad_sequences(x_train_en,value=nb)\n",
    "l_max = len(x_train_en[0])\n",
    "x_dev_en = tf.keras.preprocessing.sequence.pad_sequences(x_dev_en,value=nb, maxlen=l_max)\n",
    "x_test_en = tf.keras.preprocessing.sequence.pad_sequences(x_test_en,value=nb, maxlen=l_max)\n",
    "\n",
    "# TYPE CODE HERE"
   ]
  },
  {
   "cell_type": "markdown",
   "metadata": {},
   "source": [
    "## 4.2 - Design and train your model"
   ]
  },
  {
   "cell_type": "code",
   "execution_count": 117,
   "metadata": {},
   "outputs": [],
   "source": [
    "# 3 - Design your encoder + classifier using tensorflow.keras.layers\n",
    "#     In Keras, Torch and other deep learning framework, we create a \"container\" which is the Sequential() module.\n",
    "#     Then we add components to this container : the lookup-table, the LSTM, the classifier etc.\n",
    "#     All of these components are contained in the Sequential() and are trained together.\n",
    "#     Note that the embedding layer is initialized randomly and does not take advantage of pre-trained word embeddings.\n",
    "\n",
    "\n",
    "# ADAPT CODE BELOW\n",
    "\n",
    "\n",
    "from tensorflow.keras.models import Sequential\n",
    "from tensorflow.keras.layers import Embedding, LSTM, Dense, Activation, Bidirectional, Dropout\n",
    "from keras.utils.np_utils import to_categorical \n",
    "from tensorflow.keras import callbacks\n",
    "from tensorflow.keras.models import load_model\n",
    "embed_dim  = 300  # word embedding dimension\n",
    "nhid       = 90  # number of hidden units in the LSTM\n",
    "vocab_size = nb +1 #50000  # size of the vocabulary\n",
    "n_classes  = 5\n",
    "\n",
    "model = Sequential()\n",
    "model.add(Embedding(vocab_size, embed_dim))\n",
    "model.add(Dropout(0.5))\n",
    "model.add(Bidirectional(LSTM(nhid, dropout=0.5, recurrent_dropout=0.5)))\n",
    "model.add(Dense(n_classes, activation='softmax'))"
   ]
  },
  {
   "cell_type": "code",
   "execution_count": 118,
   "metadata": {
    "jupyter": {
     "outputs_hidden": false
    }
   },
   "outputs": [
    {
     "name": "stdout",
     "output_type": "stream",
     "text": [
      "Model: \"sequential_25\"\n",
      "_________________________________________________________________\n",
      "Layer (type)                 Output Shape              Param #   \n",
      "=================================================================\n",
      "embedding_25 (Embedding)     (None, None, 300)         5921400   \n",
      "_________________________________________________________________\n",
      "dropout_21 (Dropout)         (None, None, 300)         0         \n",
      "_________________________________________________________________\n",
      "bidirectional_20 (Bidirectio (None, 180)               281520    \n",
      "_________________________________________________________________\n",
      "dense_31 (Dense)             (None, 5)                 905       \n",
      "=================================================================\n",
      "Total params: 6,203,825\n",
      "Trainable params: 6,203,825\n",
      "Non-trainable params: 0\n",
      "_________________________________________________________________\n",
      "None\n"
     ]
    }
   ],
   "source": [
    "# 4 - Define your loss/optimizer/metrics\n",
    "\n",
    "# MODIFY CODE BELOW\n",
    "\n",
    "loss_classif     =  'categorical_crossentropy' # find the right loss for multi-class classification\n",
    "optimizer        =  'rmsprop' # find the right optimizer\n",
    "metrics_classif  =  ['accuracy']\n",
    "\n",
    "# Observe how easy (but blackboxed) this is in Keras\n",
    "model.compile(loss=loss_classif,\n",
    "              optimizer=optimizer,\n",
    "              metrics=metrics_classif)\n",
    "print(model.summary())"
   ]
  },
  {
   "cell_type": "code",
   "execution_count": 119,
   "metadata": {},
   "outputs": [
    {
     "name": "stdout",
     "output_type": "stream",
     "text": [
      "Train on 8544 samples, validate on 1101 samples\n",
      "Epoch 1/10\n",
      "8512/8544 [============================>.] - ETA: 0s - loss: 1.5660 - acc: 0.2867\n",
      "Epoch 00001: val_acc improved from -inf to 0.28792, saving model to weights_trial.hdf5\n",
      "8544/8544 [==============================] - 232s 27ms/sample - loss: 1.5659 - acc: 0.2864 - val_loss: 1.5469 - val_acc: 0.2879\n",
      "Epoch 2/10\n",
      "8512/8544 [============================>.] - ETA: 0s - loss: 1.4812 - acc: 0.3569\n",
      "Epoch 00002: val_acc improved from 0.28792 to 0.36331, saving model to weights_trial.hdf5\n",
      "8544/8544 [==============================] - 229s 27ms/sample - loss: 1.4809 - acc: 0.3563 - val_loss: 1.4362 - val_acc: 0.3633\n",
      "Epoch 3/10\n",
      "8512/8544 [============================>.] - ETA: 0s - loss: 1.3639 - acc: 0.4131\n",
      "Epoch 00003: val_acc improved from 0.36331 to 0.39691, saving model to weights_trial.hdf5\n",
      "8544/8544 [==============================] - 230s 27ms/sample - loss: 1.3633 - acc: 0.4134 - val_loss: 1.3933 - val_acc: 0.3969\n",
      "Epoch 4/10\n",
      "8512/8544 [============================>.] - ETA: 0s - loss: 1.2669 - acc: 0.4543\n",
      "Epoch 00004: val_acc improved from 0.39691 to 0.40236, saving model to weights_trial.hdf5\n",
      "8544/8544 [==============================] - 233s 27ms/sample - loss: 1.2667 - acc: 0.4546 - val_loss: 1.3808 - val_acc: 0.4024\n",
      "Epoch 5/10\n",
      "8512/8544 [============================>.] - ETA: 0s - loss: 1.1878 - acc: 0.5009\n",
      "Epoch 00005: val_acc did not improve from 0.40236\n",
      "8544/8544 [==============================] - 231s 27ms/sample - loss: 1.1869 - acc: 0.5014 - val_loss: 1.3880 - val_acc: 0.3851\n",
      "Epoch 6/10\n",
      "8512/8544 [============================>.] - ETA: 0s - loss: 1.1168 - acc: 0.5374\n",
      "Epoch 00006: val_acc did not improve from 0.40236\n",
      "8544/8544 [==============================] - 231s 27ms/sample - loss: 1.1168 - acc: 0.5376 - val_loss: 1.4072 - val_acc: 0.3906\n",
      "Epoch 7/10\n",
      "8512/8544 [============================>.] - ETA: 0s - loss: 1.0492 - acc: 0.5732\n",
      "Epoch 00007: val_acc did not improve from 0.40236\n",
      "8544/8544 [==============================] - 231s 27ms/sample - loss: 1.0492 - acc: 0.5733 - val_loss: 1.4331 - val_acc: 0.3942\n",
      "Epoch 8/10\n",
      "8512/8544 [============================>.] - ETA: 0s - loss: 0.9875 - acc: 0.6026\n",
      "Epoch 00008: val_acc did not improve from 0.40236\n",
      "8544/8544 [==============================] - 231s 27ms/sample - loss: 0.9887 - acc: 0.6018 - val_loss: 1.4778 - val_acc: 0.3896\n",
      "Epoch 9/10\n",
      "8512/8544 [============================>.] - ETA: 0s - loss: 0.9221 - acc: 0.6316\n",
      "Epoch 00009: val_acc did not improve from 0.40236\n",
      "8544/8544 [==============================] - 231s 27ms/sample - loss: 0.9217 - acc: 0.6318 - val_loss: 1.5530 - val_acc: 0.3760\n",
      "Epoch 10/10\n",
      "8512/8544 [============================>.] - ETA: 0s - loss: 0.8700 - acc: 0.6625\n",
      "Epoch 00010: val_acc did not improve from 0.40236\n",
      "8544/8544 [==============================] - 232s 27ms/sample - loss: 0.8714 - acc: 0.6619 - val_loss: 1.5368 - val_acc: 0.4005\n",
      "dict_keys(['loss', 'acc', 'val_loss', 'val_acc'])\n"
     ]
    },
    {
     "data": {
      "image/png": "[encoded data removed]",
      "text/plain": [
       "<Figure size 432x288 with 1 Axes>"
      ]
     },
     "metadata": {
      "needs_background": "light"
     },
     "output_type": "display_data"
    },
    {
     "data": {
      "image/png": "[encoded data removed]",
      "text/plain": [
       "<Figure size 432x288 with 1 Axes>"
      ]
     },
     "metadata": {
      "needs_background": "light"
     },
     "output_type": "display_data"
    }
   ],
   "source": [
    "# 5 - Train your model and find the best hyperparameters for your dev set\n",
    "#     you will be evaluated on the quality of your predictions on the test set\n",
    "#     Keras expects y_train and y_dev to be one-hot encodings of the labels, i.e. with shape=(n_samples, 5)\n",
    "\n",
    "\n",
    "# ADAPT CODE BELOW\n",
    "bs = 64\n",
    "n_epochs = 10\n",
    "y_train_cat = to_categorical(y_train, num_classes=5)\n",
    "y_dev_cat = to_categorical(y_dev, num_classes=5)\n",
    "checkpointer = callbacks.ModelCheckpoint(filepath='weights_trial.hdf5', verbose=1,\n",
    "                                               save_best_only=True, monitor='val_acc')\n",
    "history = model.fit(x_train_en, y_train_cat, batch_size=bs, epochs=n_epochs, validation_data=(x_dev_en, y_dev_cat),callbacks=[checkpointer])\n",
    "\n",
    "# summarize history for accuracy\n",
    "print(history.history.keys())\n",
    "plt.plot(history.history['acc'])\n",
    "plt.plot(history.history['val_acc'])\n",
    "plt.title('model accuracy')\n",
    "plt.ylabel('accuracy')\n",
    "plt.xlabel('epoch')\n",
    "plt.legend(['train', 'test'], loc='upper left')\n",
    "plt.show()\n",
    "# summarize history for loss\n",
    "plt.plot(history.history['loss'])\n",
    "plt.plot(history.history['val_loss'])\n",
    "plt.title('model loss')\n",
    "plt.ylabel('loss')\n",
    "plt.xlabel('epoch')\n",
    "plt.legend(['train', 'test'], loc='upper left')\n",
    "plt.show()"
   ]
  },
  {
   "cell_type": "code",
   "execution_count": 120,
   "metadata": {},
   "outputs": [],
   "source": [
    "# 6 - Generate your predictions on the test set using model.predict(x_test)\n",
    "#     https://keras.io/models/model/\n",
    "#     Log your predictions in a file (one line = one integer: 0,1,2,3,4)\n",
    "#     Attach the output file \"logreg_lstm_y_test_sst.txt\" to your deliverable.\n",
    "model = load_model(\"weights_trial.hdf5\")\n",
    "prediction = model.predict_classes(x_test_en)\n",
    "file1 = open(\"logreg_lstm_y_test_sst.txt\", 'w+')\n",
    "for i in prediction : \n",
    "    file1.write(str(i)+'\\n')\n",
    "file1.close()\n",
    "# TYPE CODE HERE"
   ]
  },
  {
   "cell_type": "markdown",
   "metadata": {},
   "source": [
    "## 4.3 - innovate !"
   ]
  },
  {
   "cell_type": "code",
   "execution_count": 121,
   "metadata": {},
   "outputs": [
    {
     "name": "stdout",
     "output_type": "stream",
     "text": [
      "Model: \"sequential_26\"\n",
      "_________________________________________________________________\n",
      "Layer (type)                 Output Shape              Param #   \n",
      "=================================================================\n",
      "embedding_26 (Embedding)     (None, None, 300)         5921400   \n",
      "_________________________________________________________________\n",
      "dropout_22 (Dropout)         (None, None, 300)         0         \n",
      "_________________________________________________________________\n",
      "conv1d_10 (Conv1D)           (None, None, 64)          96064     \n",
      "_________________________________________________________________\n",
      "max_pooling1d_6 (MaxPooling1 (None, None, 64)          0         \n",
      "_________________________________________________________________\n",
      "bidirectional_21 (Bidirectio (None, 180)               111600    \n",
      "_________________________________________________________________\n",
      "dense_32 (Dense)             (None, 50)                9050      \n",
      "_________________________________________________________________\n",
      "dense_33 (Dense)             (None, 5)                 255       \n",
      "=================================================================\n",
      "Total params: 6,138,369\n",
      "Trainable params: 6,138,369\n",
      "Non-trainable params: 0\n",
      "_________________________________________________________________\n",
      "None\n"
     ]
    }
   ],
   "source": [
    "# 7 - Open question: find a model that is better on your dev set\n",
    "#     (e.g: use a 1D ConvNet, use a better classifier, pretrain your lookup tables ..)\n",
    "#     you will get point if the results on the test set are better: be careful of not overfitting your dev set too much..\n",
    "#     Attach the output file \"XXX_XXX_y_test_sst.txt\" to your deliverable.\n",
    "\n",
    "from tensorflow.keras.models import Sequential\n",
    "from tensorflow.keras.layers import Embedding, LSTM, Dense, Activation, Bidirectional, Dropout, Conv1D, MaxPooling1D, AveragePooling1D\n",
    "from keras.utils.np_utils import to_categorical \n",
    "from tensorflow.keras import callbacks\n",
    "embed_dim  = 300  # word embedding dimension\n",
    "nhid       = 90  # number of hidden units in the LSTM\n",
    "vocab_size = nb +1 #50000  # size of the vocabulary\n",
    "n_classes  = 5\n",
    "\n",
    "\n",
    "model = Sequential()\n",
    "model.add(Embedding(vocab_size, embed_dim))\n",
    "model.add(Dropout(0.5))\n",
    "model.add(Conv1D(filters,\n",
    "                 kernel_size,\n",
    "                 padding='valid',\n",
    "                 activation='relu',\n",
    "                 strides=1))\n",
    "model.add(MaxPooling1D(pool_size=pool_size))\n",
    "model.add(Bidirectional(LSTM(nhid, dropout=0.5, recurrent_dropout=0.5)))\n",
    "model.add(Dense(50,activation='tanh'))\n",
    "model.add(Dense(n_classes, activation='softmax'))\n",
    "\n",
    "\n",
    "# MODIFY CODE BELOW\n",
    "\n",
    "loss_classif     =  'categorical_crossentropy' # find the right loss for multi-class classification\n",
    "optimizer        =  'rmsprop' # find the right optimizer\n",
    "metrics_classif  =  ['accuracy']\n",
    "\n",
    "# Observe how easy (but blackboxed) this is in Keras\n",
    "model.compile(loss=loss_classif,\n",
    "              optimizer=optimizer,\n",
    "              metrics=metrics_classif)\n",
    "print(model.summary())\n"
   ]
  },
  {
   "cell_type": "code",
   "execution_count": 122,
   "metadata": {},
   "outputs": [
    {
     "name": "stdout",
     "output_type": "stream",
     "text": [
      "Train on 8544 samples, validate on 1101 samples\n",
      "Epoch 1/20\n",
      "8512/8544 [============================>.] - ETA: 0s - loss: 1.5674 - acc: 0.2818\n",
      "Epoch 00001: val_acc improved from -inf to 0.32879, saving model to Conv_weights_trial.hdf5\n",
      "8544/8544 [==============================] - 52s 6ms/sample - loss: 1.5678 - acc: 0.2815 - val_loss: 1.5354 - val_acc: 0.3288\n",
      "Epoch 2/20\n",
      "8512/8544 [============================>.] - ETA: 0s - loss: 1.4529 - acc: 0.3711\n",
      "Epoch 00002: val_acc improved from 0.32879 to 0.40145, saving model to Conv_weights_trial.hdf5\n",
      "8544/8544 [==============================] - 30s 4ms/sample - loss: 1.4528 - acc: 0.3713 - val_loss: 1.3860 - val_acc: 0.4015\n",
      "Epoch 3/20\n",
      "8512/8544 [============================>.] - ETA: 0s - loss: 1.3001 - acc: 0.4329\n",
      "Epoch 00003: val_acc did not improve from 0.40145\n",
      "8544/8544 [==============================] - 30s 3ms/sample - loss: 1.3001 - acc: 0.4324 - val_loss: 1.3648 - val_acc: 0.3942\n",
      "Epoch 4/20\n",
      "8512/8544 [============================>.] - ETA: 0s - loss: 1.1904 - acc: 0.4926\n",
      "Epoch 00004: val_acc did not improve from 0.40145\n",
      "8544/8544 [==============================] - 30s 3ms/sample - loss: 1.1903 - acc: 0.4929 - val_loss: 1.4135 - val_acc: 0.3878\n",
      "Epoch 5/20\n",
      "8512/8544 [============================>.] - ETA: 0s - loss: 1.0867 - acc: 0.5381\n",
      "Epoch 00005: val_acc did not improve from 0.40145\n",
      "8544/8544 [==============================] - 30s 3ms/sample - loss: 1.0866 - acc: 0.5382 - val_loss: 1.4466 - val_acc: 0.3597\n",
      "Epoch 6/20\n",
      "8512/8544 [============================>.] - ETA: 0s - loss: 0.9914 - acc: 0.5894\n",
      "Epoch 00006: val_acc did not improve from 0.40145\n",
      "8544/8544 [==============================] - 30s 3ms/sample - loss: 0.9908 - acc: 0.5900 - val_loss: 1.5651 - val_acc: 0.3370\n",
      "Epoch 7/20\n",
      "8512/8544 [============================>.] - ETA: 0s - loss: 0.9195 - acc: 0.6288\n",
      "Epoch 00007: val_acc did not improve from 0.40145\n",
      "8544/8544 [==============================] - 30s 3ms/sample - loss: 0.9197 - acc: 0.6289 - val_loss: 1.6120 - val_acc: 0.3706\n",
      "Epoch 8/20\n",
      "8512/8544 [============================>.] - ETA: 0s - loss: 0.8296 - acc: 0.6687\n",
      "Epoch 00008: val_acc did not improve from 0.40145\n",
      "8544/8544 [==============================] - 30s 3ms/sample - loss: 0.8296 - acc: 0.6689 - val_loss: 1.6647 - val_acc: 0.3451\n",
      "Epoch 9/20\n",
      "8512/8544 [============================>.] - ETA: 0s - loss: 0.7537 - acc: 0.7086\n",
      "Epoch 00009: val_acc did not improve from 0.40145\n",
      "8544/8544 [==============================] - 30s 3ms/sample - loss: 0.7535 - acc: 0.7090 - val_loss: 1.8491 - val_acc: 0.3560\n",
      "Epoch 10/20\n",
      "8512/8544 [============================>.] - ETA: 0s - loss: 0.6762 - acc: 0.7411\n",
      "Epoch 00010: val_acc did not improve from 0.40145\n",
      "8544/8544 [==============================] - 30s 3ms/sample - loss: 0.6754 - acc: 0.7415 - val_loss: 1.9020 - val_acc: 0.3460\n",
      "Epoch 11/20\n",
      "8512/8544 [============================>.] - ETA: 0s - loss: 0.6007 - acc: 0.7753\n",
      "Epoch 00011: val_acc did not improve from 0.40145\n",
      "8544/8544 [==============================] - 30s 4ms/sample - loss: 0.6011 - acc: 0.7749 - val_loss: 2.0737 - val_acc: 0.3615\n",
      "Epoch 12/20\n",
      "8512/8544 [============================>.] - ETA: 0s - loss: 0.5388 - acc: 0.8009\n",
      "Epoch 00012: val_acc did not improve from 0.40145\n",
      "8544/8544 [==============================] - 30s 3ms/sample - loss: 0.5393 - acc: 0.8008 - val_loss: 2.1707 - val_acc: 0.3324\n",
      "Epoch 13/20\n",
      "8512/8544 [============================>.] - ETA: 0s - loss: 0.4706 - acc: 0.8271\n",
      "Epoch 00013: val_acc did not improve from 0.40145\n",
      "8544/8544 [==============================] - 30s 3ms/sample - loss: 0.4712 - acc: 0.8265 - val_loss: 2.1677 - val_acc: 0.3351\n",
      "Epoch 14/20\n",
      "8512/8544 [============================>.] - ETA: 0s - loss: 0.4189 - acc: 0.8393\n",
      "Epoch 00014: val_acc did not improve from 0.40145\n",
      "8544/8544 [==============================] - 30s 3ms/sample - loss: 0.4201 - acc: 0.8387 - val_loss: 2.3165 - val_acc: 0.3351\n",
      "Epoch 15/20\n",
      "8512/8544 [============================>.] - ETA: 0s - loss: 0.3605 - acc: 0.8644\n",
      "Epoch 00015: val_acc did not improve from 0.40145\n",
      "8544/8544 [==============================] - 30s 3ms/sample - loss: 0.3611 - acc: 0.8641 - val_loss: 2.4525 - val_acc: 0.3479\n",
      "Epoch 16/20\n",
      "8512/8544 [============================>.] - ETA: 0s - loss: 0.3301 - acc: 0.8789\n",
      "Epoch 00016: val_acc did not improve from 0.40145\n",
      "8544/8544 [==============================] - 30s 3ms/sample - loss: 0.3303 - acc: 0.8790 - val_loss: 2.5506 - val_acc: 0.3479\n",
      "Epoch 17/20\n",
      "8512/8544 [============================>.] - ETA: 0s - loss: 0.2910 - acc: 0.8919\n",
      "Epoch 00017: val_acc did not improve from 0.40145\n",
      "8544/8544 [==============================] - 30s 3ms/sample - loss: 0.2916 - acc: 0.8916 - val_loss: 2.6877 - val_acc: 0.3460\n",
      "Epoch 18/20\n",
      "8512/8544 [============================>.] - ETA: 0s - loss: 0.2678 - acc: 0.9037\n",
      "Epoch 00018: val_acc did not improve from 0.40145\n",
      "8544/8544 [==============================] - 30s 3ms/sample - loss: 0.2678 - acc: 0.9037 - val_loss: 2.7884 - val_acc: 0.3506\n",
      "Epoch 19/20\n",
      "8512/8544 [============================>.] - ETA: 0s - loss: 0.2312 - acc: 0.9127\n",
      "Epoch 00019: val_acc did not improve from 0.40145\n",
      "8544/8544 [==============================] - 30s 3ms/sample - loss: 0.2309 - acc: 0.9128 - val_loss: 2.9030 - val_acc: 0.3479\n",
      "Epoch 20/20\n",
      "8512/8544 [============================>.] - ETA: 0s - loss: 0.2187 - acc: 0.9206\n",
      "Epoch 00020: val_acc did not improve from 0.40145\n",
      "8544/8544 [==============================] - 30s 4ms/sample - loss: 0.2182 - acc: 0.9208 - val_loss: 2.9761 - val_acc: 0.3388\n"
     ]
    }
   ],
   "source": [
    "# ADAPT CODE BELOW\n",
    "bs = 64\n",
    "n_epochs = 20\n",
    "y_train_cat = to_categorical(y_train, num_classes=5)\n",
    "y_dev_cat = to_categorical(y_dev, num_classes=5)\n",
    "checkpointer = callbacks.ModelCheckpoint(filepath='Conv_weights_trial.hdf5', verbose=1,\n",
    "                                               save_best_only=True, monitor='val_acc')\n",
    "history = model.fit(x_train_en, y_train_cat, batch_size=bs, epochs=n_epochs, validation_data=(x_dev_en, y_dev_cat),callbacks=[checkpointer])\n"
   ]
  },
  {
   "cell_type": "code",
   "execution_count": 123,
   "metadata": {},
   "outputs": [],
   "source": [
    "model = load_model(\"Conv_weights_trial.hdf5\")\n",
    "prediction = model.predict_classes(x_test_en)\n",
    "file1 = open(\"XXX_XXX_y_test_sst.txt\", 'w+')\n",
    "for i in prediction : \n",
    "    file1.write(str(i)+'\\n')\n",
    "file1.close()"
   ]
  },
  {
   "cell_type": "code",
   "execution_count": null,
   "metadata": {},
   "outputs": [],
   "source": []
  }
 ],
 "metadata": {
  "kernelspec": {
   "display_name": "Python 3",
   "language": "python",
   "name": "python3"
  },
  "language_info": {
   "codemirror_mode": {
    "name": "ipython",
    "version": 3
   },
   "file_extension": ".py",
   "mimetype": "text/x-python",
   "name": "python",
   "nbconvert_exporter": "python",
   "pygments_lexer": "ipython3",
   "version": "3.7.3"
  }
 },
 "nbformat": 4,
 "nbformat_minor": 4
}
